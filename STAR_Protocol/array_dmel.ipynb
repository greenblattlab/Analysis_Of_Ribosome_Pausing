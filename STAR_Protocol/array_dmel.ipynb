{
 "cells": [
  {
   "cell_type": "markdown",
   "id": "12dbf983-0403-4298-97f6-8d9fef7130ac",
   "metadata": {},
   "source": [
    "# Count Arrays for Greenblatt and Spradling D. Melanogaster data\n",
    "\n",
    "This notebook is a short pipeline that creates a list of count vectors that show the number of reads recorded for each gene at each codon position."
   ]
  },
  {
   "cell_type": "markdown",
   "id": "22aa066c-f189-4701-b7b5-15f728d9dac1",
   "metadata": {},
   "source": [
    "### Step 1:\n",
    "Activate the Plastid conda environment and open up a Jupyter Lab session (alternatively, a python file can be run in this conda environment)"
   ]
  },
  {
   "cell_type": "markdown",
   "id": "9e0c3c45-529f-44f5-b0b8-790f72cc2825",
   "metadata": {
    "tags": []
   },
   "source": [
    "### Step 2: \n",
    "Load in all of the necessary packages from Plastid"
   ]
  },
  {
   "cell_type": "code",
   "execution_count": 1,
   "id": "df487d4f-2383-402a-9fdc-00244b70e6a2",
   "metadata": {},
   "outputs": [],
   "source": [
    "# Let the program know where to find your tools file.\n",
    "import sys\n",
    "sys.path.append('/home/keeganfl/Desktop/Work_Fall_2021/Fall_2021_Work_journal/STAR_protocol/')"
   ]
  },
  {
   "cell_type": "code",
   "execution_count": 2,
   "id": "198212b6-3fce-430d-b93c-358ff2ae341d",
   "metadata": {},
   "outputs": [],
   "source": [
    "# Import necessary packages\n",
    "from plastid import BAMGenomeArray,GTF2_TranscriptAssembler,Transcript\n",
    "import numpy as np\n",
    "import pandas as pd\n",
    "from plastid.plotting.plots import *\n",
    "import keegan_analysis_tools as kat\n",
    "import matplotlib.pyplot as plt\n",
    "from matplotlib.pyplot import figure\n",
    "%matplotlib inline"
   ]
  },
  {
   "cell_type": "code",
   "execution_count": 3,
   "id": "077f1d84-caf2-46fe-9808-41fd7df37cfb",
   "metadata": {},
   "outputs": [],
   "source": [
    "# Define the path to important files\n",
    "data_path = \"/home/keeganfl/Desktop/Work_Fall_2021/genomes_&_samples/dmel/\"\n",
    "save_path = \"/home/keeganfl/Desktop/Work_Fall_2021/data_tables/position_counts_codon_resolution/dmel/\"\n",
    "p_site_path = \"/home/keeganfl/Desktop/Work_Fall_2021/data_tables/p-site_offsets/dmel/\"\n",
    "mutation = 'Fmr1'\n",
    "samp_num = '2'"
   ]
  },
  {
   "cell_type": "markdown",
   "id": "0d83bd9b-3686-4901-92e1-8895346a8b32",
   "metadata": {
    "tags": []
   },
   "source": [
    "### Step 3\n",
    "Load in your P-site offset files using the read_csv() function from pandas"
   ]
  },
  {
   "cell_type": "code",
   "execution_count": 4,
   "id": "b02aa05b-ae67-4f35-9f6f-122833357769",
   "metadata": {},
   "outputs": [],
   "source": [
    "# Load in the table of P-site offsets. \n",
    "p_offsets=pd.read_csv(p_site_path + mutation + \"_RPF_\" + samp_num + \"_Aligned.toTranscriptome.out_p-site-offsets\", \n",
    "                      sep=\"\\t\")"
   ]
  },
  {
   "cell_type": "markdown",
   "id": "77f80bcc-0220-490a-9c4c-441170ef5d28",
   "metadata": {},
   "source": [
    "### Step 4\n",
    "Load in a GTF genome annotation file into python using Plastid's GTF2_TranscriptAssembler() function. This function will load in the transcripts as an iterator of transcript type objects which we will convert to a list. In most cases, we will then want to filter this list so that only the protein coding genes transcripts are present. In the event that only protein coding genes are present in the GTF file this step should be skipped. "
   ]
  },
  {
   "cell_type": "code",
   "execution_count": 5,
   "id": "6602aae6-6ecf-4e5f-b146-24a11b3409fe",
   "metadata": {
    "tags": []
   },
   "outputs": [],
   "source": [
    "# load the transcript annotations from the GTF file.\n",
    "# GTF2_TranscriptAssembler returns an iterator, so here we convert it to a list.\n",
    "transcripts = list(GTF2_TranscriptAssembler(open(data_path + \"Drosophila_melanogaster.BDGP6.32.103.gtf\"),return_type=Transcript))"
   ]
  },
  {
   "cell_type": "code",
   "execution_count": 6,
   "id": "4be097b2-2a7c-4b81-a9b4-828cab2dbad9",
   "metadata": {},
   "outputs": [],
   "source": [
    "# Remove non-protein coding transcripts from transcripts list. \n",
    "protein_coding = []\n",
    "for transcript in transcripts:\n",
    "    if transcript.attr['transcript_biotype'] == 'protein_coding':\n",
    "        protein_coding.append(transcript)"
   ]
  },
  {
   "cell_type": "code",
   "execution_count": 7,
   "id": "fcb6aa27-2b50-47e5-8536-c69e82c64d5d",
   "metadata": {},
   "outputs": [],
   "source": [
    "# clear up some memory by deleting original transcript list\n",
    "transcripts.clear()"
   ]
  },
  {
   "cell_type": "markdown",
   "id": "a98b848c-edde-4190-988d-133c2cc47e3c",
   "metadata": {},
   "source": [
    "### Step 5\n",
    "item Load in the Bam file containing the Ribosome Profiling data as a Bam Genome Array using Plastid's BamGenomeArray() function. While loading in these bam files, map the read alignments to their corresponding P-sites. Plastid does not have a pre-built function that can assign P-site offsets from the 3' end for varying read lengths. Therefore, In order to apply the per read length P-site offsets we calculated using riboWaltz, it is necessary to create our own python function called VariableThreePrimeMapFactory based on the inner workings of the VariableFivePrimeMapFactory function that comes prepackaged with Plastid. You can find an example of this function in the keegan_analysis_tools.py file on the GitHub page."
   ]
  },
  {
   "cell_type": "code",
   "execution_count": 8,
   "id": "cec43099-d578-40bc-8286-3a59cabc59b0",
   "metadata": {},
   "outputs": [],
   "source": [
    "# Read in the alignments from a BAM file and then have it map to the p-site \n",
    "alignments = BAMGenomeArray(data_path + mutation + \"_RPF_\" + samp_num + \"_Aligned.sortedByCoord.out.bam\")\n",
    "alignments.set_mapping(kat.VariableThreePrimeMapFactory(p_offsets=p_offsets))"
   ]
  },
  {
   "cell_type": "markdown",
   "id": "4d88bebf-3416-4abb-9c0e-0881c8e8e2ee",
   "metadata": {},
   "source": [
    "### Step 6\n",
    "For each transcript object in our list we are going to use plastids get_counts() method to to create a numpy array that contains the number of counts at each position in the transcript. "
   ]
  },
  {
   "cell_type": "code",
   "execution_count": 9,
   "id": "ebc2d803-79d3-4707-a53b-e9db9df0d601",
   "metadata": {
    "tags": []
   },
   "outputs": [],
   "source": [
    "# create a list to hold the vectors\n",
    "count_vectors = []\n",
    "\n",
    "# get counts for each transcript\n",
    "for transcript in protein_coding:\n",
    "    count_vectors.append(transcript.get_counts(alignments))"
   ]
  },
  {
   "cell_type": "markdown",
   "id": "f11093c8-e9bb-4bfd-bb97-8c7dfafc602e",
   "metadata": {},
   "source": [
    "### Step 7\n",
    "Once we have created our count arrays we are going to want to convert them from nucleotide resolution to codon resolution for some of the modelling we are going to do later. This can be done easily by calculating the sum of the counts every three positions using numpy's add.reduceat() function."
   ]
  },
  {
   "cell_type": "code",
   "execution_count": 10,
   "id": "fba44882-1587-49df-8a82-0e145edeeaa5",
   "metadata": {},
   "outputs": [],
   "source": [
    "# Calculate the loacation of the start and end of the coding region for each transcript. \n",
    "cds_starts = []\n",
    "cds_ends = []\n",
    "\n",
    "for transcript in protein_coding:\n",
    "    cds_starts.append(transcript.cds_start)\n",
    "    cds_ends.append(transcript.cds_end)"
   ]
  },
  {
   "cell_type": "code",
   "execution_count": 11,
   "id": "2ad35974-9bce-4f88-9430-64099b8406f0",
   "metadata": {},
   "outputs": [],
   "source": [
    "# Create a list of lists containing the counts at each position of the transcript cds regions.\n",
    "cds_counts_list = []\n",
    "\n",
    "for i in range(len(count_vectors)):\n",
    "    x = list(count_vectors[i][cds_starts[i]:cds_ends[i]])\n",
    "    cds_counts_list.append(x)"
   ]
  },
  {
   "cell_type": "code",
   "execution_count": 12,
   "id": "996448e9-1934-4891-8666-33eda7dad335",
   "metadata": {},
   "outputs": [],
   "source": [
    "# Convert the count lists from nucleotide resolution to codon resolution\n",
    "codon_counts = []\n",
    "\n",
    "for i in cds_counts_list:\n",
    "    codon_counts.append(np.add.reduceat(i, np.arange(0, len(i),3)))"
   ]
  },
  {
   "cell_type": "code",
   "execution_count": 13,
   "id": "fa016304-5a38-4ad4-8519-a25365735d24",
   "metadata": {},
   "outputs": [],
   "source": [
    "# Convert the codon counts to a list so they can be more easily saved\n",
    "for count, i in zip(codon_counts, list(range(len(codon_counts)))):\n",
    "    codon_counts[i] = count.tolist()"
   ]
  },
  {
   "cell_type": "markdown",
   "id": "e04ba682-aa91-4bb6-8d4c-7ae94b48ef2b",
   "metadata": {},
   "source": [
    "### Step 8\n",
    "save the count arrays to be used in future notebooks. You may find it helpful to use the save_count_positions() function from keegan_analysis_tools.py so that the count arrays are saved with their gene name and transcript ids. "
   ]
  },
  {
   "cell_type": "code",
   "execution_count": 14,
   "id": "8551e183-a82b-4273-a4f4-9642548c14c3",
   "metadata": {},
   "outputs": [],
   "source": [
    "kat.save_count_positions(protein_coding, codon_counts, save_path, mutation + \"_\" + samp_num + '_counts.csv')"
   ]
  },
  {
   "cell_type": "markdown",
   "id": "a1065d07-e8be-42b5-a8fe-a69ec69ecb35",
   "metadata": {},
   "source": [
    "## Analyzing the data files"
   ]
  },
  {
   "cell_type": "code",
   "execution_count": 15,
   "id": "3538b685-7bd8-437f-92c9-6591cb4fdff6",
   "metadata": {},
   "outputs": [],
   "source": [
    "#Get the transcript and vector for the gene of interest\n",
    "my_transcript, my_vector, index = kat.find_transcript('Ubi-p63E', protein_coding, count_vectors)"
   ]
  },
  {
   "cell_type": "code",
   "execution_count": 16,
   "id": "5ffa99cb-7656-4b71-904a-ff30d09c26b2",
   "metadata": {},
   "outputs": [
    {
     "data": {
      "text/plain": [
       "12925"
      ]
     },
     "execution_count": 16,
     "metadata": {},
     "output_type": "execute_result"
    }
   ],
   "source": [
    "index"
   ]
  },
  {
   "cell_type": "code",
   "execution_count": 17,
   "id": "1cd5a9d3-101e-4af0-bf25-b5d1fc7b2b37",
   "metadata": {},
   "outputs": [
    {
     "data": {
      "text/plain": [
       "<matplotlib.lines.Line2D at 0x7f530c351700>"
      ]
     },
     "execution_count": 17,
     "metadata": {},
     "output_type": "execute_result"
    },
    {
     "data": {
      "image/png": "[encoded data removed]",
      "text/plain": [
       "<Figure size 432x288 with 1 Axes>"
      ]
     },
     "metadata": {
      "needs_background": "light"
     },
     "output_type": "display_data"
    }
   ],
   "source": [
    "# 30-codon sliding window average\n",
    "window = np.ones(90).astype(float)/90.0\n",
    "sliding_window_avg = np.convolve(my_vector,window,mode=\"valid\")\n",
    "\n",
    "\n",
    "# plot\n",
    "%matplotlib inline\n",
    "import matplotlib.pyplot as plt\n",
    "\n",
    "plt.plot(my_vector,label=\"%s counts\" % my_transcript.get_name())\n",
    "plt.plot(sliding_window_avg,label=\"30 codon average\")\n",
    "plt.xlabel(\"Position in transcript (5' to 3')\")\n",
    "plt.ylabel(\"Ribosome counts\")\n",
    "\n",
    "# add outlines at start & stop codons\n",
    "plt.axvline(my_transcript.cds_start,color=\"#999999\",dashes=[3,2],zorder=-1)\n",
    "plt.axvline(my_transcript.cds_end,color=\"#999999\",dashes=[3,2],zorder=-1)"
   ]
  },
  {
   "cell_type": "code",
   "execution_count": null,
   "id": "01e9e6f5-4972-46ad-a0a9-d69e00c8246f",
   "metadata": {},
   "outputs": [],
   "source": []
  }
 ],
 "metadata": {
  "kernelspec": {
   "display_name": "Python 3 (ipykernel)",
   "language": "python",
   "name": "python3"
  },
  "language_info": {
   "codemirror_mode": {
    "name": "ipython",
    "version": 3
   },
   "file_extension": ".py",
   "mimetype": "text/x-python",
   "name": "python",
   "nbconvert_exporter": "python",
   "pygments_lexer": "ipython3",
   "version": "3.8.12"
  }
 },
 "nbformat": 4,
 "nbformat_minor": 5
}
