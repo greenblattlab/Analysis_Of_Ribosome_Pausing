{
 "cells": [
  {
   "cell_type": "markdown",
   "id": "437b0776-352c-4ee0-9b21-b561c4bdc62b",
   "metadata": {
    "tags": []
   },
   "source": [
    "# Calculating Gene expression. \n",
    "\n",
    "This script calculates gene expression in raw read counts, RPKM and TPM (So we are looking at the raw reads and a normalizsed measure of gene expression) using matched samples of RNA-seq and ribosome profiling data. Note that in order to calculate these values properly, data outputted by the feature counts package is required. This is because Plastid appears to struggle to properly load the RNA data for Drosophilia melanogaster"
   ]
  },
  {
   "cell_type": "markdown",
   "id": "a5766647-fab3-4e85-ba9f-f6b9cfbe32d0",
   "metadata": {},
   "source": [
    "### Step 1\n",
    "Activate the Plastid conda environment and open up a Jupyter Lab session (alternatively, a python file can be run in this python environment)\n",
    "\n",
    "### Step 2\n",
    "Load in all of the necessary packages from Plastid"
   ]
  },
  {
   "cell_type": "code",
   "execution_count": 19,
   "id": "3701f454-d539-44ef-bb00-27718993905c",
   "metadata": {},
   "outputs": [],
   "source": [
    "# Loading up required packages\n",
    "from plastid import BAMGenomeArray, GenomeArray, GTF2_TranscriptAssembler, Transcript\n",
    "from plastid.plotting.plots import *\n",
    "import numpy as np\n",
    "import pandas as pd\n",
    "import copy\n",
    "import setup_utils as st\n",
    "import matplotlib.pyplot as plt\n",
    "%matplotlib inline"
   ]
  },
  {
   "cell_type": "code",
   "execution_count": 2,
   "id": "0dbc14a5-12ca-4bd5-ac08-ca4df78ad0fb",
   "metadata": {},
   "outputs": [],
   "source": [
    "# Define important paths. \n",
    "data_path = \"/home/keeganfl/Desktop/Work_Fall_2021/genomes_&_samples/dmel/\"\n",
    "feat_counts_path = \"/home/keeganfl/Desktop/Work_Fall_2021/feature_counts/dmel/\"\n",
    "save_path = \"/home/keeganfl/Desktop/Work_Fall_2021/data_tables/TE_tables/dmel/\"\n",
    "p_site_path = \"/home/keeganfl/Desktop/Work_Fall_2021/data_tables/p-site_offsets/dmel/\"\n",
    "gtf_name = \"Drosophila_melanogaster.BDGP6.32.103.gtf\"\n",
    "mutation = 'control'\n",
    "samp_num = '3'\n",
    "special = \"fc\""
   ]
  },
  {
   "cell_type": "markdown",
   "id": "b7eea3ec-7839-4580-a226-fb1469ce8179",
   "metadata": {},
   "source": [
    "### Step 3\n",
    "Load in your P-site offset files using the read_csv() function from pandas"
   ]
  },
  {
   "cell_type": "code",
   "execution_count": 3,
   "id": "8096b6d3-1bd8-49ce-8370-e03e1813eb93",
   "metadata": {},
   "outputs": [],
   "source": [
    "# Load in the table of P-site offsets. \n",
    "p_offsets=pd.read_csv(p_site_path + mutation + '_RPF_' + samp_num + \"_Aligned.toTranscriptome.out_p-site-offsets\", sep=\"\\t\")"
   ]
  },
  {
   "cell_type": "markdown",
   "id": "1074b287-a420-4f5d-b8aa-2d405423f7ae",
   "metadata": {},
   "source": [
    "### Step 4\n",
    "Load in a GTF genome annotation file into python using Plastid's GTF2_TranscriptAssembler() function. This function will load in the transcripts as an iterator of transcript type objects which we will convert to a list."
   ]
  },
  {
   "cell_type": "code",
   "execution_count": 4,
   "id": "47ce7229-65ab-44a8-b8e5-6ccaf9fe020a",
   "metadata": {
    "tags": []
   },
   "outputs": [],
   "source": [
    "# Load up the genome annotation as a list of transcript objects\n",
    "gtf_reads=list(GTF2_TranscriptAssembler(open(data_path + gtf_name),return_type=Transcript))"
   ]
  },
  {
   "cell_type": "markdown",
   "id": "a315e520-be75-4211-be72-d7ed6c1454b0",
   "metadata": {},
   "source": [
    "### Step 5\n",
    "Load in the Bam files containing the Ribosome Profiling data and the RNA sequencing data as a Bam Genome Array using Plastid's BamGenomeArray() function."
   ]
  },
  {
   "cell_type": "code",
   "execution_count": 5,
   "id": "ce6a3f16-521b-4604-8fb5-57569da65967",
   "metadata": {},
   "outputs": [],
   "source": [
    "# Open the read alignments, storing each dataset in a BAMGenomeArray:\n",
    "my_datasets = { \"ribosome_profiling\" : data_path + mutation +\"_RPF_\" + samp_num + \"_Aligned.sortedByCoord.out.bam\"}\n",
    "my_datasets = { K : BAMGenomeArray(V) for K,V in my_datasets.items() }"
   ]
  },
  {
   "cell_type": "markdown",
   "id": "24c0142c-2ed4-4565-9581-02e89b5fe1c7",
   "metadata": {},
   "source": [
    "### Step 6\n",
    "Map the read alignments to their corresponding P-sites. Again we are going to need to use our custom VariableThreePrimeMapFactory function in order to assign P-site offsets effectively."
   ]
  },
  {
   "cell_type": "code",
   "execution_count": 6,
   "id": "be3c8610-745c-4ca9-99dc-c31f03cabded",
   "metadata": {},
   "outputs": [],
   "source": [
    "# Map the ribosome profiling alignments to the p-site. \n",
    "my_datasets[\"ribosome_profiling\"].set_mapping(st.VariableThreePrimeMapFactory(p_offsets=p_offsets))"
   ]
  },
  {
   "cell_type": "markdown",
   "id": "0dcb3f2f-6b1a-442e-8abb-b65fbf6c6ad1",
   "metadata": {},
   "source": [
    "### Step 7\n",
    "Create an empty dictionary in python that contains a list for each transcript in our GTF file and each metric we wish to calculate (e.g. length, number of counts, rpk)."
   ]
  },
  {
   "cell_type": "code",
   "execution_count": 7,
   "id": "2269c869-4c9d-464a-b638-0699a1d0ac0d",
   "metadata": {},
   "outputs": [],
   "source": [
    "# we will calculate both total counts and RPKM\n",
    "metrics = (\"counts\",\"rpk\",\"lengths\")\n",
    "\n",
    "# create an empty list for each sample and metric\n",
    "my_data = { \"%s_%s\" % (SAMPLE,METRIC) : copy.deepcopy([])\\\n",
    "                                                  for SAMPLE in my_datasets.keys()\\\n",
    "                                                  for METRIC in metrics }\n",
    "\n",
    "# add a list to our dictionary of lists to store transcript IDs, gene_names, and gene_IDs.\n",
    "my_data[\"transcript_ID\"] = []\n",
    "my_data[\"gene_name\"] = []\n",
    "my_data[\"gene_ID\"] = []"
   ]
  },
  {
   "cell_type": "markdown",
   "id": "ca883d4b-0145-4eef-b985-e4a9e789e76a",
   "metadata": {},
   "source": [
    "### Step 8\n",
    "Fill up the dictionary with the required metrics and then convert the dictionary to a pandas dataframe for easier organization. "
   ]
  },
  {
   "cell_type": "code",
   "execution_count": 8,
   "id": "941e2ea7-d7ae-4497-893c-2e9d24f84522",
   "metadata": {
    "tags": []
   },
   "outputs": [],
   "source": [
    "for transcript in gtf_reads:\n",
    "        \n",
    "    # First, save the ID of the transcript we are evaluating\n",
    "    if transcript.attr[\"transcript_biotype\"] == \"protein_coding\":\n",
    "        my_data[\"transcript_ID\"].append(transcript.get_name())\n",
    "        my_data[\"gene_ID\"].append(transcript.attr[\"gene_id\"])\n",
    "        my_data[\"gene_name\"].append(transcript.attr[\"gene_name\"])\n",
    "\n",
    "        # Iterate over each sample\n",
    "        for sample_name, sample_data in my_datasets.items():\n",
    "            counts = sum(transcript.get_counts(sample_data))\n",
    "            length = transcript.length\n",
    "            rpk   = float(counts)/(length/1000)\n",
    "            my_data[\"%s_counts\" % (sample_name)].append(counts)\n",
    "            my_data[\"%s_rpk\"   % (sample_name)].append(rpk)\n",
    "            my_data[\"%s_lengths\" % (sample_name)].append(length)\n",
    "            \n",
    "# Convert to a Dataframe\n",
    "df = pd.DataFrame(my_data)"
   ]
  },
  {
   "cell_type": "markdown",
   "id": "c8ab4890-a4ca-4756-a34a-9db7c90ac0f5",
   "metadata": {},
   "source": [
    "## Loading RNA sequencing data from feature counts"
   ]
  },
  {
   "cell_type": "code",
   "execution_count": 9,
   "id": "4159c977-cce1-4d96-bdb5-c4de5ba5f758",
   "metadata": {},
   "outputs": [],
   "source": [
    "# Load in feature counts data\n",
    "feature_counts = pd.read_csv(feat_counts_path + 'counts_' + mutation + '_RNA_' + samp_num + '.txt', delimiter = \"\\t\", comment='#')"
   ]
  },
  {
   "cell_type": "code",
   "execution_count": 10,
   "id": "da54719c-24e3-44b0-a6ac-caceb3a9ad9f",
   "metadata": {},
   "outputs": [],
   "source": [
    "# Select our columns of interest. \n",
    "cols = [\"Geneid\",\"Length\",mutation + '_RNA_' + samp_num + \"_Aligned.sortedByCoord.out.bam\"]\n",
    "feature_counts = feature_counts[cols]"
   ]
  },
  {
   "cell_type": "code",
   "execution_count": 11,
   "id": "35583471-8c11-4626-9715-70a59ceb0c13",
   "metadata": {},
   "outputs": [],
   "source": [
    "# Rename our columns to assist with the merge to the dataframe. \n",
    "feature_counts.rename(columns = {mutation + '_RNA_' + samp_num + \"_Aligned.sortedByCoord.out.bam\" : \"RNA-seq_counts\",\n",
    "                                \"Length\" : \"RNA-seq_lengths\", \"Geneid\" : \"gene_ID\"}, inplace = True)"
   ]
  },
  {
   "cell_type": "code",
   "execution_count": 12,
   "id": "5e645eb4-1cca-4b7f-93ff-d3c767e7944a",
   "metadata": {
    "tags": []
   },
   "outputs": [],
   "source": [
    "# create new columns that contain the calculations for tpm and rpkm. \n",
    "feature_counts[\"RNA-seq_rpk\"] = feature_counts[\"RNA-seq_counts\"]/feature_counts[\"RNA-seq_lengths\"]\n",
    "feature_counts[\"RNA-seq_tpm\"] = feature_counts[\"RNA-seq_rpk\"]/(sum(feature_counts[\"RNA-seq_rpk\"])/1e6)\n",
    "feature_counts[\"RNA-seq_rpkm\"] =feature_counts[\"RNA-seq_counts\"]/ feature_counts[\"RNA-seq_lengths\"]*1000 * 1e6 / sum(feature_counts[\"RNA-seq_counts\"])"
   ]
  },
  {
   "cell_type": "code",
   "execution_count": 13,
   "id": "7f56a34f-f2bc-424d-b728-abd00746158e",
   "metadata": {},
   "outputs": [],
   "source": [
    "# Merging the table from feature counts with the plastid dataframe based on the gene names. \n",
    "df_merged = pd.merge(df,feature_counts, how = \"inner\", on = \"gene_ID\")\n",
    "df = df_merged"
   ]
  },
  {
   "cell_type": "markdown",
   "id": "f66f26ba-237b-4308-bfc7-a0776070fb62",
   "metadata": {},
   "source": [
    "### Step 9\n",
    "Calculate RPKM and TPM for the ribo-profile and RNA-seq data for each transcript using the equations <br />\n",
    "$\n",
    "RPKM = 10^9 * \\frac{reads\\: mapped\\: to\\: the\\: transcript}{total\\: reads * transcript\\: length}\n",
    "$\n",
    "<br />\n",
    "&\n",
    "<br />\n",
    "$TPM = 10^6 * \\frac{reads\\: mapped\\: to\\: the\\: transcript\\:/\\: transcript\\: length }{Sum(reads\\: mapped\\: to\\: each\\: transcript\\:/\\: each\\: transcript's\\: length)}\n",
    "$\n",
    "<br />\n",
    "Then add them as new columns to the pandas dataframe."
   ]
  },
  {
   "cell_type": "code",
   "execution_count": 14,
   "id": "5c2c70c0-5e60-4d90-8326-1a812062ea6c",
   "metadata": {},
   "outputs": [],
   "source": [
    "# Calculate tpm using rpk from our new dataframe. \n",
    "for sample_name in [\"ribosome_profiling\"]:\n",
    "    per_m_s = sum(df[\"%s_rpk\"   % (sample_name)])/1e6\n",
    "    df[\"%s_tpm\" % (sample_name)] = (df[\"%s_rpk\"   % (sample_name)])/per_m_s\n",
    "    \n",
    "# Calculate rpkm using the read counts.\n",
    "for sample_name in [\"ribosome_profiling\"]:\n",
    "    counts = df[\"%s_counts\"   % (sample_name)]\n",
    "    rpkm   = counts / df[\"ribosome_profiling_lengths\"] * 1e9 / sum(counts)\n",
    "    df[\"%s_rpkm\" % (sample_name)] = rpkm"
   ]
  },
  {
   "cell_type": "markdown",
   "id": "141cedef-e165-498b-9a82-42560c80d73c",
   "metadata": {},
   "source": [
    "### Step 10\n",
    "Calculate the TE by dividing the RPKM and TPM for the ribosome profiling data by the RPKM and TPM for the mRNA sequence data. Save the TE values as new columns in the pandas dataframe. "
   ]
  },
  {
   "cell_type": "code",
   "execution_count": 15,
   "id": "821d397a-c018-4dab-b25b-84ff7f50fd0b",
   "metadata": {},
   "outputs": [],
   "source": [
    "# Calculate translation efficiency using tpm\n",
    "df[\"TE_tpm\"] = df[\"ribosome_profiling_tpm\"] / df[\"RNA-seq_tpm\"]\n",
    "\n",
    "# Calculate translation efficiency using rpkm\n",
    "df[\"TE_rpkm\"] = df[\"ribosome_profiling_rpkm\"] / df[\"RNA-seq_rpkm\"]"
   ]
  },
  {
   "cell_type": "code",
   "execution_count": 16,
   "id": "e0924fd1-4458-4120-af35-4c1f2467ff21",
   "metadata": {},
   "outputs": [],
   "source": [
    "# Rearranging Column names to make something more readable. \n",
    "cols = ['transcript_ID', \"gene_ID\",\"gene_name\", 'TE_tpm','TE_rpkm','ribosome_profiling_tpm',\n",
    "        'RNA-seq_tpm','ribosome_profiling_counts','RNA-seq_counts',\n",
    "        'ribosome_profiling_rpkm', 'RNA-seq_rpkm', 'ribosome_profiling_rpk', \n",
    "       'RNA-seq_rpk', 'ribosome_profiling_lengths', 'RNA-seq_lengths']\n",
    "df = df[cols]"
   ]
  },
  {
   "cell_type": "markdown",
   "id": "ae468aee-df90-4c79-a9b4-8c9af5a2a68c",
   "metadata": {},
   "source": [
    "### Step 11\n",
    "Use a kernel density estimate plot to look at the distribution of TE's in your data. This is an important step for making sure nothing has gone wrong in the alignment, P-site offsetting, or TE calculation steps. In order to create these TE tables, we are going to need to remove all of the negative or infinite values from our data (these occur naturally as a result of there being zero reads for genes that have very low expression). Once these annoying values have been removed we can use Plastids kde_plot() function to look at the distribution of TE values. We are hoping to see the majority of our TE values being somewhere between 0 and 5 with just a small proportion of transcripts having higher TEs than that. "
   ]
  },
  {
   "cell_type": "code",
   "execution_count": 17,
   "id": "39f7da94-80e8-49a0-8502-3ec3b626c2c9",
   "metadata": {},
   "outputs": [],
   "source": [
    "# We need to remove zeroes and infinite values in order to make the kernel density estimates\n",
    "df_clean=df[~df.isin([np.nan, np.inf, -np.inf, 0]).any(1)]\n",
    "\n",
    "# We are only going to look at TE values that fall within a certain region. \n",
    "df_interest=df_clean[(df_clean[\"TE_tpm\"] >= 0)&(df_clean[\"TE_tpm\"] <= 800)]"
   ]
  },
  {
   "cell_type": "code",
   "execution_count": 18,
   "id": "8c463de9-43b7-4f6a-964c-2862f3f3984f",
   "metadata": {},
   "outputs": [
    {
     "ename": "NameError",
     "evalue": "name 'kde_plot' is not defined",
     "output_type": "error",
     "traceback": [
      "\u001b[0;31m---------------------------------------------------------------------------\u001b[0m",
      "\u001b[0;31mNameError\u001b[0m                                 Traceback (most recent call last)",
      "\u001b[0;32m/tmp/ipykernel_1447620/356805248.py\u001b[0m in \u001b[0;36m<module>\u001b[0;34m\u001b[0m\n\u001b[1;32m      1\u001b[0m \u001b[0;31m# plot kernel density estimates of A and B on the same axis\u001b[0m\u001b[0;34m\u001b[0m\u001b[0;34m\u001b[0m\u001b[0;34m\u001b[0m\u001b[0m\n\u001b[0;32m----> 2\u001b[0;31m \u001b[0mfig\u001b[0m\u001b[0;34m,\u001b[0m \u001b[0max\u001b[0m \u001b[0;34m=\u001b[0m \u001b[0mkde_plot\u001b[0m\u001b[0;34m(\u001b[0m\u001b[0mdf_interest\u001b[0m\u001b[0;34m[\u001b[0m\u001b[0;34m\"TE_tpm\"\u001b[0m\u001b[0;34m]\u001b[0m\u001b[0;34m,\u001b[0m\u001b[0mlabel\u001b[0m\u001b[0;34m=\u001b[0m\u001b[0;34m\"TE\"\u001b[0m\u001b[0;34m)\u001b[0m\u001b[0;34m\u001b[0m\u001b[0;34m\u001b[0m\u001b[0m\n\u001b[0m\u001b[1;32m      3\u001b[0m \u001b[0;34m\u001b[0m\u001b[0m\n\u001b[1;32m      4\u001b[0m \u001b[0;31m# make things look nice\u001b[0m\u001b[0;34m\u001b[0m\u001b[0;34m\u001b[0m\u001b[0;34m\u001b[0m\u001b[0m\n\u001b[1;32m      5\u001b[0m \u001b[0mplt\u001b[0m\u001b[0;34m.\u001b[0m\u001b[0mxlabel\u001b[0m\u001b[0;34m(\u001b[0m\u001b[0;34m\"TE\"\u001b[0m\u001b[0;34m)\u001b[0m\u001b[0;34m\u001b[0m\u001b[0;34m\u001b[0m\u001b[0m\n",
      "\u001b[0;31mNameError\u001b[0m: name 'kde_plot' is not defined"
     ]
    }
   ],
   "source": [
    "# plot kernel density estimates of A and B on the same axis\n",
    "fig, ax = kde_plot(df_interest[\"TE_tpm\"],label=\"TE\")\n",
    "\n",
    "# make things look nice\n",
    "plt.xlabel(\"TE\")\n",
    "plt.ylabel(\"Probability density\")\n",
    "plt.title(\"kde_plot() demo\",y=1.1)\n",
    "plt.xlim(0,20)"
   ]
  },
  {
   "cell_type": "markdown",
   "id": "5e66cd40-8bb7-45d8-a49c-814ac1c4ffb0",
   "metadata": {},
   "source": [
    "### Step 12\n",
    "save the dataframe using df.to_csv() so it can be used in future notebooks. "
   ]
  },
  {
   "cell_type": "code",
   "execution_count": null,
   "id": "79446599-eead-44f2-8383-1080d2c938a2",
   "metadata": {},
   "outputs": [],
   "source": [
    "# save the data frame.\n",
    "df.to_csv(save_path + mutation + '_' + samp_num + '_' + \"te_table\" + special + \".csv\", index = False)"
   ]
  }
 ],
 "metadata": {
  "kernelspec": {
   "display_name": "Python 3 (ipykernel)",
   "language": "python",
   "name": "python3"
  },
  "language_info": {
   "codemirror_mode": {
    "name": "ipython",
    "version": 3
   },
   "file_extension": ".py",
   "mimetype": "text/x-python",
   "name": "python",
   "nbconvert_exporter": "python",
   "pygments_lexer": "ipython3",
   "version": "3.8.12"
  }
 },
 "nbformat": 4,
 "nbformat_minor": 5
}
