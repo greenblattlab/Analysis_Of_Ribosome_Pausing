{
 "cells": [
  {
   "cell_type": "code",
   "execution_count": 8,
   "id": "06b3cfd0-ada3-4b3a-97cc-86c25d3d6f0c",
   "metadata": {},
   "outputs": [
    {
     "name": "stdout",
     "output_type": "stream",
     "text": [
      "\n",
      "CommandNotFoundError: Your shell has not been properly configured to use 'conda deactivate'.\n",
      "To initialize your shell, run\n",
      "\n",
      "    $ conda init <SHELL_NAME>\n",
      "\n",
      "Currently supported shells are:\n",
      "  - bash\n",
      "  - fish\n",
      "  - tcsh\n",
      "  - xonsh\n",
      "  - zsh\n",
      "  - powershell\n",
      "\n",
      "See 'conda init --help' for more information and options.\n",
      "\n",
      "IMPORTANT: You may need to close and restart your shell after running 'conda init'.\n",
      "\n",
      "\n"
     ]
    }
   ],
   "source": [
    "! conda deactivate "
   ]
  },
  {
   "cell_type": "markdown",
   "id": "2d10701a-c384-4a74-8a55-128450aba691",
   "metadata": {},
   "source": [
    "Hmmm, the fact that ribodiff requires me to use feature counts, enter into a new conda environment, use an installed package, and then leave that conda environment is difficult. Especially the stuff with the new conda environment, I do not think I can switch mid-notebook. "
   ]
  },
  {
   "cell_type": "code",
   "execution_count": 3,
   "id": "6d188a30-5398-4aa8-8ad7-57a08cc337b5",
   "metadata": {},
   "outputs": [
    {
     "name": "stdout",
     "output_type": "stream",
     "text": [
      "array_dmel.ipynb\t    dmel_KS_like.ipynb\t __pycache__\n",
      "dif_utils.py\t\t    dmel_TE_table.ipynb  Ribodiff.ipynb\n",
      "dmel_fmr1_enrichment.ipynb  process_counts.py\t setup_utils.py\n",
      "dmel_genome_alignment\t    P-site_offsetting.R\n"
     ]
    }
   ],
   "source": []
  },
  {
   "cell_type": "code",
   "execution_count": 8,
   "id": "2f88d00d-1908-4da2-9d80-6e8917e2988a",
   "metadata": {},
   "outputs": [],
   "source": [
    "import glob2"
   ]
  },
  {
   "cell_type": "code",
   "execution_count": 12,
   "id": "3008b09f-47a7-48fc-ab3f-65781962d4fb",
   "metadata": {},
   "outputs": [
    {
     "data": {
      "text/plain": [
       "<module 'glob' from '/home/keeganfl/miniconda3/envs/plastid/lib/python3.8/glob.py'>"
      ]
     },
     "execution_count": 12,
     "metadata": {},
     "output_type": "execute_result"
    }
   ],
   "source": [
    "glob"
   ]
  },
  {
   "cell_type": "code",
   "execution_count": null,
   "id": "e6a43e4a-cbdb-46a4-a15e-8326e0493e06",
   "metadata": {},
   "outputs": [],
   "source": []
  }
 ],
 "metadata": {
  "kernelspec": {
   "display_name": "Python 3 (ipykernel)",
   "language": "python",
   "name": "python3"
  },
  "language_info": {
   "codemirror_mode": {
    "name": "ipython",
    "version": 3
   },
   "file_extension": ".py",
   "mimetype": "text/x-python",
   "name": "python",
   "nbconvert_exporter": "python",
   "pygments_lexer": "ipython3",
   "version": "3.8.12"
  }
 },
 "nbformat": 4,
 "nbformat_minor": 5
}
