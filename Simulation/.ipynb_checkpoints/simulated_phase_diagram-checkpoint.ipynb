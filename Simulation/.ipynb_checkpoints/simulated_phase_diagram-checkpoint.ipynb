{
 "cells": [
  {
   "cell_type": "markdown",
   "id": "a725635d-6919-41fa-be16-fd4ba84c762e",
   "metadata": {},
   "source": [
    "# Simulated Phase Diagram "
   ]
  },
  {
   "cell_type": "code",
   "execution_count": 1,
   "id": "74d6f1f7-d0c5-4b55-b367-0b8d4d374489",
   "metadata": {},
   "outputs": [],
   "source": [
    "# Let the program know where to find your tools file.\n",
    "import sys\n",
    "sys.path.append('/home/keeganfl/Desktop/Work_Fall_2021/Fall_2021_Work_journal/tools/')"
   ]
  },
  {
   "cell_type": "code",
   "execution_count": 2,
   "id": "ab168063-cd0e-4fe5-9c7a-11f173b7a820",
   "metadata": {},
   "outputs": [],
   "source": [
    "# Import necessary packages\n",
    "from plastid import BAMGenomeArray, VariableFivePrimeMapFactory, \\\n",
    "                        GTF2_TranscriptAssembler, GFF3_TranscriptAssembler, \\\n",
    "                        Transcript, ThreePrimeMapFactory, CenterMapFactory\n",
    "from plastid.plotting.plots import *\n",
    "import numpy as np\n",
    "import os\n",
    "from Bio import SeqIO\n",
    "import numpy\n",
    "import math\n",
    "import pandas as pd\n",
    "from statsmodels.stats.proportion import proportions_ztest\n",
    "from scipy import stats\n",
    "import keegan_analysis_tools as kat\n",
    "import TASEP_tools as tt\n",
    "from statsmodels.nonparametric.smoothers_lowess import lowess\n",
    "import warnings\n",
    "import matplotlib.pyplot as plt\n",
    "%matplotlib inline\n",
    "import csv\n",
    "import random\n",
    "from matplotlib.pyplot import figure\n",
    "from scipy.sparse.linalg import lsqr\n",
    "from multiprocess import Pool\n",
    "from tqdm import tqdm\n",
    "from sympy import symbols, solve, sqrt"
   ]
  },
  {
   "cell_type": "code",
   "execution_count": 3,
   "id": "d08d050c-0c58-49bc-891c-28d9754c033e",
   "metadata": {},
   "outputs": [],
   "source": [
    "image_path = '/home/keeganfl/Desktop/Work_Fall_2021/Presentation_figures/'"
   ]
  },
  {
   "cell_type": "markdown",
   "id": "27a36ebf-35be-4cfe-80d3-87c7b967201e",
   "metadata": {
    "tags": []
   },
   "source": [
    "## define functions"
   ]
  },
  {
   "cell_type": "code",
   "execution_count": 4,
   "id": "c2801773-5938-4d13-8fbb-a7be89e386f6",
   "metadata": {},
   "outputs": [],
   "source": [
    "def split_equal(value, parts):\n",
    "    value = float(value)\n",
    "    return [i*value/parts for i in range(1,parts+1)]"
   ]
  },
  {
   "cell_type": "code",
   "execution_count": 5,
   "id": "30f71444-76c1-438d-bb77-06cea15c0744",
   "metadata": {},
   "outputs": [],
   "source": [
    "def det_p_values(ks_table, sections):\n",
    "    p_values = []\n",
    "    all_ks = ks_table\n",
    "    ks_MC = ks_table[ks_table[\"phase_mutant\"] == \"MC\"]\n",
    "    for sec, i in zip(sections, list(range(len(sections)))):\n",
    "        try:\n",
    "            obs = len(ks_MC.ks_stat[(ks_MC.ks_stat > sec) & (ks_MC.ks_stat < sections[i + 1])])\n",
    "            all_p = len(all_ks.ks_stat[(all_ks.ks_stat > sec) & (all_ks.ks_stat < sections[i + 1])])\n",
    "            p_v = proportions_ztest(obs, all_p, len(ks_MC)/len(all_ks))[1]\n",
    "            p_values.append(p_v)\n",
    "        except:\n",
    "            pass\n",
    "    obs = len(ks_MC.ks_stat[ks_MC.ks_stat > sections[-1]])\n",
    "    all_p = len(all_ks.ks_stat[all_ks.ks_stat > sections[-1]])\n",
    "    p_v = proportions_ztest(obs, all_p, len(ks_MC)/len(all_ks))[1]\n",
    "    p_values.append(p_v)\n",
    "    return p_values"
   ]
  },
  {
   "cell_type": "markdown",
   "id": "08835c7e-73c4-4a14-91c8-43fe32b97a43",
   "metadata": {},
   "source": [
    "## Creating phase diagrams and determining how far simulated genes are from elongation limitation"
   ]
  },
  {
   "cell_type": "code",
   "execution_count": 6,
   "id": "19d50c4a-58c0-4320-8f2a-32f4c2550c11",
   "metadata": {},
   "outputs": [],
   "source": [
    "# Create a large series of lists to hold all of the results and intermediate values from out mutant and control samples. \n",
    "data_control = []\n",
    "data_mutant = []\n",
    "J_control = []\n",
    "J_mutant = []\n",
    "phase_control = []\n",
    "phase_mutant = []\n",
    "alphas = []\n",
    "mu_alphas = []\n",
    "betas = []\n",
    "mu_betas = []\n",
    "crit_alphas = []\n",
    "crit_betas = []\n",
    "crit_mu_alphas = []\n",
    "crit_mu_betas = []\n",
    "min_lambs = []\n",
    "mu_min_lambs = []\n",
    "ini_lambs = []\n",
    "mu_ini_lambs = []\n",
    "term_lambs = []\n",
    "mu_term_lambs = []\n",
    "\n",
    "# Run a large number of simulations using the get_all_intermediates function so that you can save all of the intermediate values. \n",
    "for i in range(25):\n",
    "    length = numpy.random.randint(200,2500)\n",
    "    alpha = numpy.random.uniform(0.004,0.02)\n",
    "    x = tt.get_all_intermediates(mean_lambda = 4, sd = 3, length = length, a= alpha, B = 2, read_density = 0.5, pause_N = 7, pause_str = 0.1, \n",
    "                         a_frac = 1, elon_frac = 1)\n",
    "    data_control.append(x[0])\n",
    "    J_control.append(x[1])\n",
    "    phase_control.append(x[2])\n",
    "    alphas.append(x[3])\n",
    "    betas.append(x[4])\n",
    "    crit_alphas.append(x[5])\n",
    "    crit_betas.append(x[6])\n",
    "    min_lambs.append(x[7])\n",
    "    ini_lambs.append(x[8])\n",
    "    term_lambs.append(x[9])\n",
    "    data_mutant.append(x[10])\n",
    "    J_mutant.append(x[11])\n",
    "    phase_mutant.append(x[12])\n",
    "    mu_alphas.append(x[13])\n",
    "    mu_betas.append(x[14])\n",
    "    crit_mu_alphas.append(x[15])\n",
    "    crit_mu_betas.append(x[16])\n",
    "    mu_min_lambs.append(x[17])\n",
    "    mu_ini_lambs.append(x[18])\n",
    "    mu_term_lambs.append(x[19])"
   ]
  },
  {
   "cell_type": "code",
   "execution_count": 7,
   "id": "f8f29b3d-3a5d-4cf0-9b78-4ce781c52ee6",
   "metadata": {},
   "outputs": [
    {
     "data": {
      "image/png": "[encoded data removed]",
      "text/plain": [
       "<Figure size 432x288 with 1 Axes>"
      ]
     },
     "metadata": {
      "needs_background": "light"
     },
     "output_type": "display_data"
    },
    {
     "data": {
      "text/plain": [
       "[<matplotlib.lines.Line2D at 0x7f9c697381c0>]"
      ]
     },
     "execution_count": 7,
     "metadata": {},
     "output_type": "execute_result"
    },
    {
     "data": {
      "image/png": "[encoded data removed]",
      "text/plain": [
       "<Figure size 432x288 with 1 Axes>"
      ]
     },
     "metadata": {
      "needs_background": "light"
     },
     "output_type": "display_data"
    }
   ],
   "source": [
    "# Create a phase diagram for our mutant sample.\n",
    "plt.scatter((np.array(mu_alphas)/np.array(crit_mu_alphas)), (np.array(mu_betas)/np.array(crit_mu_betas))*0.015)\n",
    "plt.ylim([0,6])\n",
    "plt.xlim([0,6])\n",
    "plt.xlabel(r'$\\alpha / \\alpha*$')\n",
    "plt.ylabel(r'$\\beta / \\beta*$')\n",
    "plt.title(\"mutant\")\n",
    "plt.plot([1, 1], [1, 10], 'k-', lw=2)\n",
    "plt.plot([1, 10], [1,1], 'k-', lw = 2)\n",
    "plt.plot([0, 1], [0,1], 'k-', lw = 2)\n",
    "plt.plot([0, 1], [1,1], 'k--', lw = 2)\n",
    "plt.plot([1, 1], [0,1], 'k--', lw = 2)\n",
    "plt.show()\n",
    "\n",
    "# Create a phase diagram for our control sample. \n",
    "plt.scatter((np.array(alphas)/np.array(crit_alphas)), (np.array(betas)/np.array(crit_betas))*0.07)\n",
    "plt.ylim([0,6])\n",
    "plt.xlim([0,6])\n",
    "plt.xlabel(r'$\\alpha / \\alpha*$')\n",
    "plt.ylabel(r'$\\beta / \\beta*$')\n",
    "plt.title(\"control\")\n",
    "plt.plot([1, 1], [1, 10], 'k-', lw=2)\n",
    "plt.plot([1, 10], [1,1], 'k-', lw = 2)\n",
    "plt.plot([0, 1], [0,1], 'k-', lw = 2)\n",
    "plt.plot([0, 1], [1,1], 'k--', lw = 2)\n",
    "plt.plot([1, 1], [0,1], 'k--', lw = 2)"
   ]
  },
  {
   "cell_type": "code",
   "execution_count": 8,
   "id": "08df825c-72bb-4a25-9b80-4c2ebaebad00",
   "metadata": {},
   "outputs": [],
   "source": [
    "# create a function that can determine the minimum elongation rate necessary to make alpha/crit_alpha equal to 1 (the minimum elongation rate necesary for a phase change)\n",
    "def get_crit_lambda(alpha, l1, I = 10):\n",
    "    '''\n",
    "    This function calculates the minimum elongation rate that would be necessary to make the quotient of alpha divided by the critical alpha equal to one. \n",
    "    This means that this function outputs the minimum elongation rate that is necessary for a phase change to occur. \n",
    "    '''\n",
    "    lmin = symbols('lmin', positive = True, real = True)\n",
    "    expr = ((l1 - (I-1) * (lmin/((1+sqrt(I))**2))) / 2)*(1 - sqrt(1 - (4*l1*(lmin/((1+sqrt(I))**2)))/((l1 - (I - 1)*(lmin/((1+sqrt(I))**2)))**2))) - alpha\n",
    "    sol = solve(expr)\n",
    "    return sol"
   ]
  },
  {
   "cell_type": "code",
   "execution_count": 9,
   "id": "08b70db4-4303-4b0e-b161-6b637a2cc910",
   "metadata": {},
   "outputs": [
    {
     "data": {
      "text/latex": [
       "$\\displaystyle 0.750793626476248$"
      ],
      "text/plain": [
       "0.750793626476248"
      ]
     },
     "execution_count": 9,
     "metadata": {},
     "output_type": "execute_result"
    }
   ],
   "source": [
    "# determine the minimum elongation rate necessary for a phase change for one of our samples.\n",
    "x = get_crit_lambda(mu_alphas[1],mu_ini_lambs[1])\n",
    "\n",
    "# determine the difference between the minimum elongation rate necessary for a phase change and the observed minimum elongation rate. \n",
    "mu_min_lambs[1]/x[0]"
   ]
  },
  {
   "cell_type": "code",
   "execution_count": null,
   "id": "5150c1a0-22ae-4b0d-8b63-9d3e2234f68c",
   "metadata": {},
   "outputs": [],
   "source": []
  }
 ],
 "metadata": {
  "kernelspec": {
   "display_name": "Python 3 (ipykernel)",
   "language": "python",
   "name": "python3"
  },
  "language_info": {
   "codemirror_mode": {
    "name": "ipython",
    "version": 3
   },
   "file_extension": ".py",
   "mimetype": "text/x-python",
   "name": "python",
   "nbconvert_exporter": "python",
   "pygments_lexer": "ipython3",
   "version": "3.8.12"
  }
 },
 "nbformat": 4,
 "nbformat_minor": 5
}
