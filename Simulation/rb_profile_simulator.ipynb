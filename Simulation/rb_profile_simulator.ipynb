{
 "cells": [
  {
   "cell_type": "markdown",
   "id": "a725635d-6919-41fa-be16-fd4ba84c762e",
   "metadata": {},
   "source": [
    "# Ribosome Profile Simulator\n",
    "\n",
    "This script is used to create simulated ribosome profiles from scratch. The simulation works by drawing a set of elongation rates from a gamma distribution and then plugging those rates into the equations from the inhomogenous l-TASEP model in order to create estimations of ribosome density across the transcript. These distributions of ribosome density are then randomly sampled from in order to create the equivalent of "
   ]
  },
  {
   "cell_type": "markdown",
   "id": "072d279f-df00-42f5-84f7-f88d64985151",
   "metadata": {},
   "source": [
    "### Step 1\n",
    "Activate the Plastid conda environment and open up a Jupyter Lab session (alternatively, a python file can be run in this python environment)\n",
    "\n",
    "### Step 2\n",
    "Load in all of the necessary Python packages."
   ]
  },
  {
   "cell_type": "code",
   "execution_count": 1,
   "id": "4ba84067-b6f4-478a-b0bc-9521a9863431",
   "metadata": {},
   "outputs": [],
   "source": [
    "# Let the program know where to find your tools file.\n",
    "import sys, os\n",
    "sys.path.append(os.path.join(os.path.realpath('..'), \"Tools\"))"
   ]
  },
  {
   "cell_type": "code",
   "execution_count": 2,
   "id": "ab168063-cd0e-4fe5-9c7a-11f173b7a820",
   "metadata": {},
   "outputs": [],
   "source": [
    "import numpy as np\n",
    "import pandas as pd\n",
    "import Simulation_utils as sim\n",
    "import utilities as utils\n",
    "import matplotlib.pyplot as plt\n",
    "%matplotlib inline\n",
    "from multiprocess import Pool\n",
    "from tqdm import tqdm"
   ]
  },
  {
   "cell_type": "code",
   "execution_count": 3,
   "id": "d08d050c-0c58-49bc-891c-28d9754c033e",
   "metadata": {},
   "outputs": [],
   "source": [
    "image_path = '/home/keeganfl/Desktop/Work_Fall_2021/Presentation_figures/'"
   ]
  },
  {
   "cell_type": "markdown",
   "id": "9ae0d0a2-75c8-4652-ba3e-00b5a4b37747",
   "metadata": {},
   "source": [
    "### Step 3\n",
    "Use a for-loop to run the simulate_profile() function multiple times to create a set of simulated count arrays. The parameters used to generate these simulations can be altered in several different ways depending on how we want to simulate the mutation. In this example, we are simulating 1 random pause per 100 codons with a pause strength that is equal to a reduction in elongation rate of 85%. The initiation rate is kept constant at 0.01 and the termination rate is kept very high at 2 in order to prevent termination limitation from occurring. Save our simulated count arrays along with the flux and phase of the simulations into lists. "
   ]
  },
  {
   "cell_type": "code",
   "execution_count": 4,
   "id": "88fa56b8-e2d0-4255-8aa2-087150529099",
   "metadata": {
    "tags": []
   },
   "outputs": [],
   "source": [
    "data_control = []\n",
    "j_control = []\n",
    "phase_control = []\n",
    "min_control = []\n",
    "data_mutant = []\n",
    "j_mutant = []\n",
    "phase_mutant = []\n",
    "min_mutant = []\n",
    "for i in range(24):\n",
    "    length = np.random.randint(100,2500)\n",
    "    alpha = 0.01\n",
    "    x = sim.simulate_profile(mean_lambda = 4, sd = 3, length = length, a= alpha, B = 2, min_read_density = 0.5, \n",
    "                            pause_density = 0.02, pause_str = 0.16, pause_area = 0.4,\n",
    "                            a_frac = 1, elon_frac = 1, return_min_lam = True)\n",
    "    data_control.append(x[0])\n",
    "    j_control.append(x[1])\n",
    "    phase_control.append(x[2])\n",
    "    min_control.append(x[3])\n",
    "    data_mutant.append(x[4])\n",
    "    j_mutant.append(x[5])\n",
    "    phase_mutant.append(x[6])\n",
    "    min_mutant.append(x[7])"
   ]
  },
  {
   "cell_type": "markdown",
   "id": "f834237b-0344-42d9-a438-b66cc86a43cb",
   "metadata": {},
   "source": [
    "### Step 4\n",
    "Smooth out the simulated count arrays using Loess smoothing and calculate the cumulative read distributions. This step can take some time so it is recommended to use the multiprocess.Pool() function to complete this using multiple cores. "
   ]
  },
  {
   "cell_type": "code",
   "execution_count": 5,
   "id": "0d4bb5a1-4fa6-4b26-8317-7c6211d8af05",
   "metadata": {
    "tags": []
   },
   "outputs": [
    {
     "ename": "NameError",
     "evalue": "name 'utills' is not defined",
     "output_type": "error",
     "traceback": [
      "\u001b[0;31m---------------------------------------------------------------------------\u001b[0m",
      "\u001b[0;31mNameError\u001b[0m                                 Traceback (most recent call last)",
      "\u001b[0;32m/tmp/ipykernel_318371/2785932618.py\u001b[0m in \u001b[0;36m<module>\u001b[0;34m\u001b[0m\n\u001b[1;32m      3\u001b[0m \u001b[0;32mwith\u001b[0m \u001b[0mPool\u001b[0m\u001b[0;34m(\u001b[0m\u001b[0mmax_pool\u001b[0m\u001b[0;34m)\u001b[0m \u001b[0;32mas\u001b[0m \u001b[0mp\u001b[0m\u001b[0;34m:\u001b[0m\u001b[0;34m\u001b[0m\u001b[0;34m\u001b[0m\u001b[0m\n\u001b[1;32m      4\u001b[0m     pool_control, pool_mutant = list(\n\u001b[0;32m----> 5\u001b[0;31m             p.imap(utills.get_smoothed_vector,\n\u001b[0m\u001b[1;32m      6\u001b[0m                    data_control)\n\u001b[1;32m      7\u001b[0m         \u001b[0;34m)\u001b[0m\u001b[0;34m,\u001b[0m \u001b[0mlist\u001b[0m\u001b[0;34m(\u001b[0m\u001b[0;34m\u001b[0m\u001b[0;34m\u001b[0m\u001b[0m\n",
      "\u001b[0;31mNameError\u001b[0m: name 'utills' is not defined"
     ]
    }
   ],
   "source": [
    "max_pool = 8\n",
    "\n",
    "with Pool(max_pool) as p:\n",
    "    pool_control, pool_mutant = list(\n",
    "            p.imap(utills.get_smoothed_vector,\n",
    "                   data_control)\n",
    "        ), list(\n",
    "            p.imap(utills.get_smoothed_vector,\n",
    "                    data_mutant)\n",
    "        )"
   ]
  },
  {
   "cell_type": "markdown",
   "id": "7c0b8bd6-cd9f-49eb-8211-08146fb89404",
   "metadata": {},
   "source": [
    "## Determine KS statistic for all transcripts"
   ]
  },
  {
   "cell_type": "markdown",
   "id": "f9d680b5-32cb-45a7-ae6c-0c04c277b3da",
   "metadata": {},
   "source": [
    "### Step 5\n",
    "For each gene in your simulated mutant and control samples, calculate the KS-statistic as the maximum distance between their cumulative distributions and then save this KS-statistic as a list. "
   ]
  },
  {
   "cell_type": "code",
   "execution_count": null,
   "id": "6ee20634-fff7-4ec2-9ece-f47f4e906883",
   "metadata": {},
   "outputs": [],
   "source": [
    "# Define your lists\n",
    "ks_list = []\n",
    "len_list = []\n",
    "id_list = []\n",
    "\n",
    "# Calculate the KS statistic for each example and fill up our lists.\n",
    "for tr_m, tr_c, index in zip(data_mutant, data_control, list(range(len(data_mutant)))):\n",
    "    position = np.array(list(range(len(tr_m))))\n",
    "    smoothed_vec_m, cumul_m = pool_mutant[index]\n",
    "    smoothed_vec_c, cumul_c = pool_control[index]\n",
    "    ks = max(abs(cumul_m - cumul_c))\n",
    "    ks_list.append(ks)\n",
    "    len_list.append(len(tr_m))\n",
    "    id_list.append(index)"
   ]
  },
  {
   "cell_type": "markdown",
   "id": "08419f12-8198-4b2f-aaa4-0cdf51aeda06",
   "metadata": {},
   "source": [
    "### Step 6\n",
    "Combine the lists for the gene IDs, gene lengths, fluxes, phases, and KS statistics into a pandas dataframe using the pd.DataFrame, list() & zip() functions. "
   ]
  },
  {
   "cell_type": "code",
   "execution_count": null,
   "id": "601492f7-f95b-4c08-903d-f48550fb65c7",
   "metadata": {},
   "outputs": [],
   "source": [
    "# reorganizing the lists into a dataframe. \n",
    "df_b = pd.DataFrame(list(zip(ks_list, j_control, j_mutant, phase_control, phase_mutant, min_control, min_mutant, len_list, id_list)))\n",
    "df_b.columns = [\"ks_stat\",\"J_control\", \"J_mutant\",\"phase_control\", \"phase_mutant\",\"min_control\", \"min_mutant\", \"gene_length\", \"id\"]"
   ]
  },
  {
   "cell_type": "markdown",
   "id": "108b6c19-edd7-44b6-ab5f-dc4379b43f9c",
   "metadata": {},
   "source": [
    "### Step 7\n",
    "sort your newly made dataframe from the lowest KS statistic to the highest KS statistic using \\newline \\verb|df.sorted()|"
   ]
  },
  {
   "cell_type": "code",
   "execution_count": null,
   "id": "47430d9b-f3ff-472b-8295-81bfad47029a",
   "metadata": {},
   "outputs": [],
   "source": [
    "# Sort all of the values by the KS statistic. \n",
    "df_sorted = df_b.sort_values(by = \"ks_stat\")"
   ]
  },
  {
   "cell_type": "markdown",
   "id": "b235e43d-67fd-450a-a163-4e25e6b3b1cc",
   "metadata": {},
   "source": [
    "### Step 8\n",
    "Create a list called colours which will contain a colour based on the phase that was used for the mutant in the simulation. Save this list as a new column on our dataframe. "
   ]
  },
  {
   "cell_type": "code",
   "execution_count": null,
   "id": "0094f173-ee58-4169-9513-9ec836e12c0d",
   "metadata": {},
   "outputs": [],
   "source": [
    "# Create new columns which record a different colour, size, and point shape depending on the phase of the simulated sample. \n",
    "colours = []\n",
    "sizes = []\n",
    "shapes = []\n",
    "for i in df_sorted.phase_mutant:\n",
    "    if i == \"MC\":\n",
    "        colours.append(\"magenta\")\n",
    "        sizes.append(100)\n",
    "        shapes.append('None')\n",
    "    elif i == \"LD\":\n",
    "        colours.append(\"g\")\n",
    "        sizes.append(12)\n",
    "        shapes.append(\"g\")\n",
    "    elif i == \"HD\":\n",
    "        colours.append(\"b\")\n",
    "        sizes.append(50)\n",
    "        shapes.append(\"none\")\n",
    "df_sorted[\"colours\"] = colours\n",
    "df_sorted[\"sizes\"] = sizes\n",
    "df_sorted[\"shapes\"] = shapes"
   ]
  },
  {
   "cell_type": "markdown",
   "id": "2479f76d-e950-45dc-a890-9ddbc1e48931",
   "metadata": {},
   "source": [
    "### Step 9\n",
    "Use a scatterplot to view the KS statistic from all of the control-mutant comparisons to see if the mutants that were simulated as being elongation limited (MC) have higher KS statistics than the other comparisons. The points of this scatterplot will be colour coded based on the colours column of your dataframe. You should be able to see a clear separation between the samples where the mutation induced elongation limitation and the samples where where the mutation only induced some strong pauses. "
   ]
  },
  {
   "cell_type": "code",
   "execution_count": null,
   "id": "ac1951bb-a212-47fc-9888-6a79fce6f001",
   "metadata": {
    "tags": []
   },
   "outputs": [],
   "source": [
    "df_sorted.to_csv(image_path + \"Simulated_plot_data.csv\", index = False)"
   ]
  },
  {
   "cell_type": "code",
   "execution_count": null,
   "id": "06fa6385-21a5-471e-a161-f2d9b313a428",
   "metadata": {},
   "outputs": [],
   "source": [
    "# Plot the KS values for each gene from lowest to highest. \n",
    "plt.figure(figsize = (6,6))\n",
    "plt.scatter(list(range(len(df_sorted.ks_stat))), df_sorted.ks_stat, s = df_sorted.sizes, alpha = 0.3, facecolors = \"none\", edgecolors= df_sorted.colours)\n",
    "plt.ylabel(\"KS statistic\")\n",
    "plt.xlabel(\"Transcript KS Rank\")\n",
    "plt.title(\"KS statistic of All Simulated Transcripts\")\n",
    "axes = plt.gca()\n",
    "axes.yaxis.grid(linestyle = \"--\")\n",
    "plt.xlim(0,30)\n",
    "plt.locator_params(axis=\"x\", nbins=4)\n",
    "plt.savefig(image_path + 'colour_coded_simulation.pdf')"
   ]
  },
  {
   "cell_type": "markdown",
   "id": "bbcdd95a-f43c-4f9b-a58a-e01557a8e571",
   "metadata": {
    "tags": []
   },
   "source": [
    "## Choose a simulated gene of interest and observe the smooth and unsmooth array."
   ]
  },
  {
   "cell_type": "code",
   "execution_count": null,
   "id": "1a3082f0-32fe-49f7-b688-b7eef1cd9e7d",
   "metadata": {},
   "outputs": [],
   "source": [
    "# Choosing a gene of interest to calculate the elongation rates of. \n",
    "# Get the transcript and vector for the gene of interest.\n",
    "my_gene = \"Simulated\"\n",
    "my_vec_mutant = data_mutant[0]\n",
    "my_vec_control = data_control[0]"
   ]
  },
  {
   "cell_type": "code",
   "execution_count": null,
   "id": "5573761b-560a-47b6-b3bf-1ba44c84637c",
   "metadata": {},
   "outputs": [],
   "source": [
    "smoothed_vec_m, cumul_m = utills.get_smoothed_vector(my_vec_mutant+0.00000000001)\n",
    "smoothed_vec_c, cumul_c = utills.get_smoothed_vector(my_vec_control+0.00000000001)"
   ]
  },
  {
   "cell_type": "code",
   "execution_count": null,
   "id": "5c5026a2-f723-4c9a-924f-fb17effbbfd2",
   "metadata": {},
   "outputs": [],
   "source": [
    "maxi = max([max(my_vec_mutant), max(my_vec_control)])\n",
    "\n",
    "plt.bar(list(range(len(my_vec_mutant))),my_vec_mutant, width = 1.4)\n",
    "plt.ylim([0,maxi*1.1])\n",
    "plt.ylabel(\"# of reads\", fontsize = 11)\n",
    "plt.xlabel(\"Transcript Position\", fontsize = 11)\n",
    "plt.title(\"TASEP Simulated Elongation Limitation\", fontsize = 13)\n",
    "axes = plt.gca()\n",
    "axes.yaxis.grid(linestyle = \"--\")\n",
    "plt.savefig(image_path + my_gene + '_mutant_array.pdf')\n",
    "plt.show()\n",
    "plt.bar(list(range(len(my_vec_mutant))), my_vec_control, color = \"darkorange\", width = 1.4)\n",
    "plt.ylim([0,maxi*1.1])\n",
    "plt.ylabel(\"# of reads\", fontsize = 11)\n",
    "plt.xlabel(\"Transcript Position\", fontsize = 11)\n",
    "plt.title(\"Control \", fontsize = 13)\n",
    "axes = plt.gca()\n",
    "axes.yaxis.grid(linestyle = \"--\")\n",
    "plt.savefig(image_path + my_gene + '_control_array.pdf')"
   ]
  },
  {
   "cell_type": "code",
   "execution_count": null,
   "id": "22d6564f-2d94-4a06-a379-88692e76194c",
   "metadata": {},
   "outputs": [],
   "source": [
    "plt.plot(smoothed_vec_m, label = \"efp-1\")\n",
    "plt.plot(smoothed_vec_c, label = \"control\", color = \"darkorange\")\n",
    "plt.ylabel(\"Read Density\", fontsize = 11)\n",
    "plt.xlabel(\"Transcript Position\", fontsize = 11)\n",
    "plt.title(\"Smoothed and Normalized Count Arrays\", fontsize = 13)\n",
    "plt.legend()\n",
    "axes = plt.gca()\n",
    "axes.yaxis.grid(linestyle = \"--\")"
   ]
  },
  {
   "cell_type": "code",
   "execution_count": null,
   "id": "23ddd993-e5d1-47e7-a4c3-cc79b395ede5",
   "metadata": {},
   "outputs": [],
   "source": [
    "ks = max(abs(cumul_m - cumul_c))"
   ]
  },
  {
   "cell_type": "code",
   "execution_count": null,
   "id": "ca3d9954-e3f6-434c-b00b-fee09e29ec5c",
   "metadata": {},
   "outputs": [],
   "source": [
    "plt.plot(cumul_m, label = \"mutant\")\n",
    "plt.plot(cumul_c, label = \"control\")\n",
    "plt.text(len(cumul_m)*0.66, 0.2, \"KS stat = \" + str(round(ks,3)), fontsize = 11)\n",
    "plt.ylabel(\"Cumulative Read Density\", fontsize = 11)\n",
    "plt.xlabel(\"Transcript Position\", fontsize = 11)\n",
    "plt.title(\"Simulation of Transcript with Early Stall Site\", fontsize = 13)\n",
    "plt.legend()\n",
    "axes = plt.gca()\n",
    "axes.yaxis.grid(linestyle = \"--\")\n",
    "plt.savefig(image_path + 'Early_stall_site_cumulative.pdf')"
   ]
  },
  {
   "cell_type": "code",
   "execution_count": null,
   "id": "af10d8be-6d9b-4d64-be84-7b325d9a47f0",
   "metadata": {},
   "outputs": [],
   "source": []
  }
 ],
 "metadata": {
  "kernelspec": {
   "display_name": "Python 3 (ipykernel)",
   "language": "python",
   "name": "python3"
  },
  "language_info": {
   "codemirror_mode": {
    "name": "ipython",
    "version": 3
   },
   "file_extension": ".py",
   "mimetype": "text/x-python",
   "name": "python",
   "nbconvert_exporter": "python",
   "pygments_lexer": "ipython3",
   "version": "3.8.12"
  }
 },
 "nbformat": 4,
 "nbformat_minor": 5
}
