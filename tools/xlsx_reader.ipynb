{
 "cells": [
  {
   "cell_type": "markdown",
   "id": "102fac08-ba54-46a3-be7d-cbdd71f4e429",
   "metadata": {},
   "source": [
    "### The Fmr1 targets data"
   ]
  },
  {
   "cell_type": "code",
   "execution_count": 1,
   "id": "c944ca6b-3999-4842-ac18-c0e4cd555278",
   "metadata": {},
   "outputs": [],
   "source": [
    "import pandas as pd\n",
    "data = pd.read_excel(\"/home/keeganfl/Desktop/Work_Fall_2021/Fmr1 targets.xlsx\", sheet_name = None)"
   ]
  },
  {
   "cell_type": "code",
   "execution_count": 2,
   "id": "631e5d70-bd84-4ca9-9db5-a3ece752f283",
   "metadata": {},
   "outputs": [],
   "source": [
    "df = data['Sheet1']"
   ]
  },
  {
   "cell_type": "code",
   "execution_count": 3,
   "id": "41c1b1fb-e291-47e9-9cfa-984b9568ac67",
   "metadata": {},
   "outputs": [],
   "source": [
    "cols = [\"MOUSE\", \"FLY\"]\n",
    "df = df[cols]"
   ]
  },
  {
   "cell_type": "code",
   "execution_count": 6,
   "id": "29b5fa50-b7b8-4eab-91a0-a663f4e7148c",
   "metadata": {},
   "outputs": [],
   "source": [
    "df.to_csv('/home/keeganfl/Desktop/Work_Fall_2021/Fall_2021_Work_journal/Fmr1_targets.csv')"
   ]
  },
  {
   "cell_type": "markdown",
   "id": "38c00048-294a-4c70-b3d9-e85f935471c0",
   "metadata": {},
   "source": [
    "### The polysome profiling data. "
   ]
  },
  {
   "cell_type": "code",
   "execution_count": 23,
   "id": "6defd687-f246-432a-8144-513ec612b0b3",
   "metadata": {},
   "outputs": [
    {
     "name": "stderr",
     "output_type": "stream",
     "text": [
      "/home/keeganfl/miniconda3/envs/plastid/lib/python3.8/site-packages/openpyxl/worksheet/_reader.py:312: UserWarning: Unknown extension is not supported and will be removed\n",
      "  warn(msg)\n"
     ]
    }
   ],
   "source": [
    "import pandas as pd\n",
    "data = pd.read_excel('/home/keeganfl/Desktop/Work_Fall_2021/papers/Papers/polysome_papers/polysome_data_dmel.xlsx', \n",
    "                     sheet_name = None)"
   ]
  },
  {
   "cell_type": "code",
   "execution_count": 24,
   "id": "03fa5fc4-c592-4adc-b83f-ad4d8e26e5af",
   "metadata": {},
   "outputs": [
    {
     "data": {
      "text/plain": [
       "dict_keys(['wt_mature_oocyte.rep1', 'wt_mature_oocyte.rep2', 'wt_mature_oocyte.puromycin', 'wt activ_egg.rep1', 'wt activ_egg.rep2', 'wt activ_egg.puromycin'])"
      ]
     },
     "execution_count": 24,
     "metadata": {},
     "output_type": "execute_result"
    }
   ],
   "source": [
    "data.keys()"
   ]
  },
  {
   "cell_type": "markdown",
   "id": "d3253151-369f-4706-88d3-8c2203ae5b66",
   "metadata": {
    "tags": []
   },
   "source": [
    "### The ribosome profiling data"
   ]
  },
  {
   "cell_type": "code",
   "execution_count": 26,
   "id": "3dedb827-0e37-42d7-bb1e-aaeba71241c9",
   "metadata": {},
   "outputs": [
    {
     "name": "stderr",
     "output_type": "stream",
     "text": [
      "/home/keeganfl/miniconda3/envs/plastid/lib/python3.8/site-packages/openpyxl/worksheet/_reader.py:312: UserWarning: Unknown extension is not supported and will be removed\n",
      "  warn(msg)\n"
     ]
    }
   ],
   "source": [
    "import pandas as pd\n",
    "data = pd.read_excel('/home/keeganfl/Desktop/Work_Fall_2021/papers/Papers/polysome_papers/ribosome_data_dmel.xlsx', \n",
    "                     sheet_name = None)"
   ]
  },
  {
   "cell_type": "code",
   "execution_count": 27,
   "id": "55d8808b-1c46-487f-94a0-39f673a1b2ee",
   "metadata": {},
   "outputs": [
    {
     "data": {
      "text/plain": [
       "dict_keys(['Footprinting_noCHX_plus_withCHX', 'png_mature_oocyte_withCHX'])"
      ]
     },
     "execution_count": 27,
     "metadata": {},
     "output_type": "execute_result"
    }
   ],
   "source": [
    "data.keys()"
   ]
  },
  {
   "cell_type": "code",
   "execution_count": 33,
   "id": "3b9bb997-184b-4e5d-8b3f-964c82493c40",
   "metadata": {},
   "outputs": [],
   "source": [
    "import pandas as pd\n",
    "data = pd.read_csv('/home/keeganfl/Desktop/Work_Fall_2021/papers/Papers/polysome_papers/mmc1/Suppl-Table-I-All-ORFs.txt', delimiter=\"\\t\")"
   ]
  },
  {
   "cell_type": "code",
   "execution_count": null,
   "id": "c484c776-b7ae-452b-a1db-aa75b8b975b1",
   "metadata": {},
   "outputs": [],
   "source": []
  },
  {
   "cell_type": "code",
   "execution_count": 7,
   "id": "4a4469c4-0fd8-4abb-ae84-49f5e6950e8f",
   "metadata": {},
   "outputs": [],
   "source": [
    "import pandas as pd\n",
    "data = pd.read_excel('/home/keeganfl/Downloads/aas9963-table-S4.xlsx', sheet_name=None)"
   ]
  },
  {
   "cell_type": "code",
   "execution_count": null,
   "id": "111ad924-9dd4-457a-ac87-25ef3f397d08",
   "metadata": {},
   "outputs": [],
   "source": []
  }
 ],
 "metadata": {
  "kernelspec": {
   "display_name": "Python 3 (ipykernel)",
   "language": "python",
   "name": "python3"
  },
  "language_info": {
   "codemirror_mode": {
    "name": "ipython",
    "version": 3
   },
   "file_extension": ".py",
   "mimetype": "text/x-python",
   "name": "python",
   "nbconvert_exporter": "python",
   "pygments_lexer": "ipython3",
   "version": "3.8.12"
  }
 },
 "nbformat": 4,
 "nbformat_minor": 5
}
