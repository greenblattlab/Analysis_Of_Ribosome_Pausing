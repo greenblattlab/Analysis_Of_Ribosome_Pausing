{
 "cells": [
  {
   "cell_type": "code",
   "execution_count": 1,
   "id": "836b3a19-498f-48bf-8d00-d1480c773a9e",
   "metadata": {},
   "outputs": [],
   "source": [
    "import scipy.io as sio\n",
    "import numpy as np\n",
    "import pandas as pd "
   ]
  },
  {
   "cell_type": "code",
   "execution_count": 2,
   "id": "f49cb4eb-5027-4437-a94d-0c622379cdf7",
   "metadata": {},
   "outputs": [],
   "source": [
    "import sys\n",
    "sys.path.append('/home/keeganfl/Desktop/Work_Fall_2021/Fall_2021_Work_journal/tools/')"
   ]
  },
  {
   "cell_type": "code",
   "execution_count": 3,
   "id": "8c1ea401-647c-4e33-a368-69d27b6cddb9",
   "metadata": {},
   "outputs": [],
   "source": [
    "# import plastid\n",
    "# data structure for mapping read alignments to genomic positions\n",
    "from plastid import BAMGenomeArray, GenomeArray, VariableFivePrimeMapFactory, \\\n",
    "                        GTF2_TranscriptAssembler, GFF3_TranscriptAssembler, \\\n",
    "                        Transcript, ThreePrimeMapFactory, CenterMapFactory\n",
    "import plastid\n",
    "from plastid.plotting.plots import *\n",
    "import numpy as np\n",
    "import os\n",
    "from Bio import SeqIO\n",
    "import numpy\n",
    "import math\n",
    "import pandas as pd\n",
    "from scipy import stats\n",
    "import keegan_analysis_tools as kat\n",
    "from statsmodels.nonparametric.smoothers_lowess import lowess\n",
    "import warnings\n",
    "import matplotlib.pyplot as plt\n",
    "%matplotlib inline\n",
    "import csv\n",
    "from scipy.sparse.linalg import lsqr"
   ]
  },
  {
   "cell_type": "code",
   "execution_count": 4,
   "id": "41651f41-3714-46b3-828a-62e0373e5d58",
   "metadata": {},
   "outputs": [],
   "source": [
    "# Define the path to our Bam files\n",
    "data_path = \"/home/keeganfl/Desktop/Work_Fall_2021/genomes_&_samples/dmel/\"\n",
    "feat_counts_path = \"/home/keeganfl/Desktop/Work_Fall_2021/feature_counts/dmel/\"\n",
    "te_path = \"/home/keeganfl/Desktop/Work_Fall_2021/data_tables/TE_tables/dmel/\"\n",
    "p_site_path = \"/home/keeganfl/Desktop/Work_Fall_2021/data_tables/p-site_offsets/dmel/\"\n",
    "gtf_name = \"Drosophila_melanogaster.BDGP6.32.103.gtf\"\n",
    "count_path = '/home/keeganfl/Desktop/Work_Fall_2021/data_tables/position_counts/dmel/'\n",
    "mutation = 'Fmr1'\n",
    "samp_num = '2'"
   ]
  },
  {
   "cell_type": "code",
   "execution_count": 5,
   "id": "2dfb21e6-e138-4bc2-894d-3d2d42024982",
   "metadata": {},
   "outputs": [],
   "source": [
    "te_table_mutant = pd.read_csv(te_path + mutation + '_' + samp_num + '_' + \"te_tablefc\"  + \".csv\")\n",
    "te_table_control = pd.read_csv(te_path + 'control_' + samp_num + '_' + \"te_tablefc\" + \".csv\")"
   ]
  },
  {
   "cell_type": "code",
   "execution_count": 6,
   "id": "44e68da0-05ab-4926-a5e7-73dcb15f737a",
   "metadata": {},
   "outputs": [],
   "source": [
    "data_mutant = kat.load_count_positions(mutation+\"_RPF_\"+samp_num+\"_counts.csv\",count_path)\n",
    "data_control = kat.load_count_positions(\"control_RPF_\"+ samp_num +\"_counts.csv\",count_path)"
   ]
  },
  {
   "cell_type": "code",
   "execution_count": 7,
   "id": "c42bf98d-a048-46c6-b4d8-7e0a1aa01e63",
   "metadata": {},
   "outputs": [
    {
     "data": {
      "text/html": [
       "<div>\n",
       "<style scoped>\n",
       "    .dataframe tbody tr th:only-of-type {\n",
       "        vertical-align: middle;\n",
       "    }\n",
       "\n",
       "    .dataframe tbody tr th {\n",
       "        vertical-align: top;\n",
       "    }\n",
       "\n",
       "    .dataframe thead th {\n",
       "        text-align: right;\n",
       "    }\n",
       "</style>\n",
       "<table border=\"1\" class=\"dataframe\">\n",
       "  <thead>\n",
       "    <tr style=\"text-align: right;\">\n",
       "      <th></th>\n",
       "      <th>transcript_ID</th>\n",
       "      <th>gene_ID</th>\n",
       "      <th>gene_name</th>\n",
       "      <th>TE_tpm</th>\n",
       "      <th>TE_rpkm</th>\n",
       "      <th>ribosome_profiling_tpm</th>\n",
       "      <th>RNA-seq_tpm</th>\n",
       "      <th>ribosome_profiling_counts</th>\n",
       "      <th>RNA-seq_counts</th>\n",
       "      <th>ribosome_profiling_rpkm</th>\n",
       "      <th>RNA-seq_rpkm</th>\n",
       "      <th>ribosome_profiling_rpk</th>\n",
       "      <th>RNA-seq_rpk</th>\n",
       "      <th>ribosome_profiling_lengths</th>\n",
       "      <th>RNA-seq_lengths</th>\n",
       "    </tr>\n",
       "  </thead>\n",
       "  <tbody>\n",
       "    <tr>\n",
       "      <th>17851</th>\n",
       "      <td>FBtr0078921</td>\n",
       "      <td>FBgn0263594</td>\n",
       "      <td>lost</td>\n",
       "      <td>0.286055</td>\n",
       "      <td>0.307176</td>\n",
       "      <td>434.710273</td>\n",
       "      <td>1519.671439</td>\n",
       "      <td>3273.0</td>\n",
       "      <td>90694</td>\n",
       "      <td>252.282467</td>\n",
       "      <td>821.295545</td>\n",
       "      <td>1216.276477</td>\n",
       "      <td>33.702713</td>\n",
       "      <td>2691</td>\n",
       "      <td>2691</td>\n",
       "    </tr>\n",
       "  </tbody>\n",
       "</table>\n",
       "</div>"
      ],
      "text/plain": [
       "      transcript_ID      gene_ID gene_name    TE_tpm   TE_rpkm  \\\n",
       "17851   FBtr0078921  FBgn0263594      lost  0.286055  0.307176   \n",
       "\n",
       "       ribosome_profiling_tpm  RNA-seq_tpm  ribosome_profiling_counts  \\\n",
       "17851              434.710273  1519.671439                     3273.0   \n",
       "\n",
       "       RNA-seq_counts  ribosome_profiling_rpkm  RNA-seq_rpkm  \\\n",
       "17851           90694               252.282467    821.295545   \n",
       "\n",
       "       ribosome_profiling_rpk  RNA-seq_rpk  ribosome_profiling_lengths  \\\n",
       "17851             1216.276477    33.702713                        2691   \n",
       "\n",
       "       RNA-seq_lengths  \n",
       "17851             2691  "
      ]
     },
     "execution_count": 7,
     "metadata": {},
     "output_type": "execute_result"
    }
   ],
   "source": [
    "my_gene = \"lost\"\n",
    "te_table_mutant[te_table_mutant[\"gene_name\"] == my_gene]"
   ]
  },
  {
   "cell_type": "code",
   "execution_count": 8,
   "id": "24b1a97e-2cfc-4459-aa00-10bf388a386f",
   "metadata": {},
   "outputs": [],
   "source": [
    "profile = np.array((data_mutant[17851]+1), dtype = 'd')\n",
    "density = te_table_mutant.iloc[17851][\"TE_tpm\"]"
   ]
  },
  {
   "cell_type": "code",
   "execution_count": 9,
   "id": "2863fae4-1457-4a85-a889-e1a953d572a9",
   "metadata": {},
   "outputs": [],
   "source": [
    "test = {\"Density\": density, \"Profile\": profile}"
   ]
  },
  {
   "cell_type": "code",
   "execution_count": 28,
   "id": "a489856a-898d-4050-acd0-007889fe4e80",
   "metadata": {},
   "outputs": [],
   "source": [
    "sio.savemat(my_gene + '_test.mat', test)"
   ]
  },
  {
   "cell_type": "code",
   "execution_count": 10,
   "id": "1718fba7-ee78-4bc5-b4e6-c72945588289",
   "metadata": {},
   "outputs": [
    {
     "data": {
      "text/plain": [
       "[<matplotlib.lines.Line2D at 0x7f8fbce6d880>]"
      ]
     },
     "execution_count": 10,
     "metadata": {},
     "output_type": "execute_result"
    },
    {
     "data": {
      "image/png": "[encoded data removed]",
      "text/plain": [
       "<Figure size 432x288 with 1 Axes>"
      ]
     },
     "metadata": {
      "needs_background": "light"
     },
     "output_type": "display_data"
    }
   ],
   "source": [
    "plt.plot(profile)"
   ]
  },
  {
   "cell_type": "code",
   "execution_count": null,
   "id": "f7e56901-d545-419a-ba6e-006b3377beec",
   "metadata": {},
   "outputs": [],
   "source": [
    "my_vec"
   ]
  },
  {
   "cell_type": "code",
   "execution_count": null,
   "id": "6d17b44c-ecf0-4650-b502-a40f44963fce",
   "metadata": {},
   "outputs": [],
   "source": [
    "# 30-codon sliding window average\n",
    "window = np.ones(90).astype(float)/90.0\n",
    "sliding_window_avg = np.convolve(my_vector,window,mode=\"valid\")\n",
    "\n",
    "\n",
    "# plot\n",
    "%matplotlib inline\n",
    "import matplotlib.pyplot as plt\n",
    "\n",
    "plt.plot(my_vector,label=\"%s counts\" % my_transcript.get_name())\n",
    "plt.plot(sliding_window_avg,label=\"30 codon average\")\n",
    "plt.xlabel(\"Position in transcript (5' to 3')\")\n",
    "plt.ylabel(\"Ribosome counts\")\n",
    "\n",
    "# add outlines at start & stop codons\n",
    "plt.axvline(my_transcript.cds_start,color=\"#999999\",dashes=[3,2],zorder=-1)\n",
    "plt.axvline(my_transcript.cds_end,color=\"#999999\",dashes=[3,2],zorder=-1)"
   ]
  }
 ],
 "metadata": {
  "kernelspec": {
   "display_name": "Python 3 (ipykernel)",
   "language": "python",
   "name": "python3"
  },
  "language_info": {
   "codemirror_mode": {
    "name": "ipython",
    "version": 3
   },
   "file_extension": ".py",
   "mimetype": "text/x-python",
   "name": "python",
   "nbconvert_exporter": "python",
   "pygments_lexer": "ipython3",
   "version": "3.8.12"
  }
 },
 "nbformat": 4,
 "nbformat_minor": 5
}
