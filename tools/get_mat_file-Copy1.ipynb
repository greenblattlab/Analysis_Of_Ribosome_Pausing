{
 "cells": [
  {
   "cell_type": "code",
   "execution_count": 1,
   "id": "836b3a19-498f-48bf-8d00-d1480c773a9e",
   "metadata": {},
   "outputs": [],
   "source": [
    "import scipy.io as sio\n",
    "import numpy as np\n",
    "import pandas as pd "
   ]
  },
  {
   "cell_type": "code",
   "execution_count": 2,
   "id": "f49cb4eb-5027-4437-a94d-0c622379cdf7",
   "metadata": {},
   "outputs": [],
   "source": [
    "import sys\n",
    "sys.path.append('/home/keeganfl/Desktop/Work_Fall_2021/Fall_2021_Work_journal/tools/')"
   ]
  },
  {
   "cell_type": "code",
   "execution_count": 3,
   "id": "8c1ea401-647c-4e33-a368-69d27b6cddb9",
   "metadata": {},
   "outputs": [],
   "source": [
    "# import plastid\n",
    "# data structure for mapping read alignments to genomic positions\n",
    "from plastid import BAMGenomeArray, GenomeArray, VariableFivePrimeMapFactory, \\\n",
    "                        GTF2_TranscriptAssembler, GFF3_TranscriptAssembler, \\\n",
    "                        Transcript, ThreePrimeMapFactory, CenterMapFactory\n",
    "import plastid\n",
    "from plastid.plotting.plots import *\n",
    "import numpy as np\n",
    "import os\n",
    "from Bio import SeqIO\n",
    "import numpy\n",
    "import math\n",
    "import pandas as pd\n",
    "from scipy import stats\n",
    "import keegan_analysis_tools as kat\n",
    "from statsmodels.nonparametric.smoothers_lowess import lowess\n",
    "import warnings\n",
    "import matplotlib.pyplot as plt\n",
    "%matplotlib inline\n",
    "import csv\n",
    "from scipy.sparse.linalg import lsqr"
   ]
  },
  {
   "cell_type": "code",
   "execution_count": 7,
   "id": "41651f41-3714-46b3-828a-62e0373e5d58",
   "metadata": {},
   "outputs": [],
   "source": [
    "# Define the path to our Bam files\n",
    "data_path = \"/home/keeganfl/Desktop/Work_Fall_2021/genomes_&_samples/ecol/\"\n",
    "feat_counts_path = \"/home/keeganfl/Desktop/Work_Fall_2021/feature_counts/ecol/\"\n",
    "te_path = \"/home/keeganfl/Desktop/Work_Fall_2021/data_tables/\"\n",
    "p_site_path = \"/home/keeganfl/Desktop/Work_Fall_2021/data_tables/p-site_offsets/ecol/\"\n",
    "gtf_name = \"Escherichia_coli_str_k_12_substr_mg1655_gca_000005845.ASM584v2.51.gtf\"\n",
    "count_path = '/home/keeganfl/Desktop/Work_Fall_2021/data_tables/position_counts_codon_resolution/ecol/'\n",
    "mutation = 'efp'\n",
    "samp_num = '2'"
   ]
  },
  {
   "cell_type": "markdown",
   "id": "a29f9cf7-0463-4d3a-a75b-35313b2b0f22",
   "metadata": {
    "tags": []
   },
   "source": [
    "## Loading up the data files "
   ]
  },
  {
   "cell_type": "code",
   "execution_count": 13,
   "id": "027f434a-18ca-498a-be99-09cc7038a3ee",
   "metadata": {
    "tags": []
   },
   "outputs": [],
   "source": [
    "# load the transcript annotations from the GTF file.\n",
    "# GTF2_TranscriptAssembler returns an iterator, so here we convert it to a list.\n",
    "transcripts = list(GTF2_TranscriptAssembler(open(data_path + gtf_name),return_type=Transcript))"
   ]
  },
  {
   "cell_type": "code",
   "execution_count": 14,
   "id": "99caa6d3-f0b4-4f19-b026-f58d12d8fb73",
   "metadata": {},
   "outputs": [],
   "source": [
    "# Remove non-protein coding transcripts from transcripts list. \n",
    "protein_coding = []\n",
    "for transcript in transcripts:\n",
    "    if transcript.attr['gene_biotype'] == 'protein_coding':\n",
    "        protein_coding.append(transcript)"
   ]
  },
  {
   "cell_type": "code",
   "execution_count": 15,
   "id": "5a146cdd-f923-4f5f-abe5-f11e9e2aa8a6",
   "metadata": {},
   "outputs": [],
   "source": [
    "# clear up some memory by deleting original transcript list\n",
    "transcripts.clear()"
   ]
  },
  {
   "cell_type": "code",
   "execution_count": 9,
   "id": "2dfb21e6-e138-4bc2-894d-3d2d42024982",
   "metadata": {},
   "outputs": [],
   "source": [
    "te_table_mutant = pd.read_csv(te_path + 'ecol_TE_thingy.csv')"
   ]
  },
  {
   "cell_type": "code",
   "execution_count": 17,
   "id": "44e68da0-05ab-4926-a5e7-73dcb15f737a",
   "metadata": {},
   "outputs": [],
   "source": [
    "data_mutant = kat.load_count_positions(mutation+\"_\"+samp_num+\"_counts.csv\",count_path)\n",
    "data_control = kat.load_count_positions(\"control\" + \"_\" + samp_num + \"_counts.csv\", count_path)"
   ]
  },
  {
   "cell_type": "code",
   "execution_count": 18,
   "id": "4c153e0c-3096-4d8d-adcb-7b8d1328573f",
   "metadata": {},
   "outputs": [],
   "source": [
    "# Choosing a gene of interest to calculate the elongation rates of. \n",
    "# Get the transcript and vector for the gene of interest.\n",
    "my_gene = 'cysQ'\n",
    "my_transcript, my_vec_mutant, my_vec_control, index = kat.find_transcripts(my_gene, \n",
    "                                           protein_coding, data_mutant, data_control)"
   ]
  },
  {
   "cell_type": "code",
   "execution_count": 31,
   "id": "24b1a97e-2cfc-4459-aa00-10bf388a386f",
   "metadata": {},
   "outputs": [],
   "source": [
    "profile = np.array(my_vec_mutant, dtype = \"d\")\n",
    "density = float(te_table_mutant[te_table_mutant.Gene == my_gene].TE)"
   ]
  },
  {
   "cell_type": "code",
   "execution_count": 32,
   "id": "2863fae4-1457-4a85-a889-e1a953d572a9",
   "metadata": {},
   "outputs": [],
   "source": [
    "test = {\"Density\": density, \"Profile\": profile}"
   ]
  },
  {
   "cell_type": "code",
   "execution_count": 33,
   "id": "a489856a-898d-4050-acd0-007889fe4e80",
   "metadata": {},
   "outputs": [],
   "source": [
    "sio.savemat(my_gene + '_test.mat', test)"
   ]
  },
  {
   "cell_type": "code",
   "execution_count": 20,
   "id": "1718fba7-ee78-4bc5-b4e6-c72945588289",
   "metadata": {},
   "outputs": [
    {
     "data": {
      "text/plain": [
       "[<matplotlib.lines.Line2D at 0x7f7a76585550>]"
      ]
     },
     "execution_count": 20,
     "metadata": {},
     "output_type": "execute_result"
    },
    {
     "data": {
      "image/png": "[encoded data removed]",
      "text/plain": [
       "<Figure size 432x288 with 1 Axes>"
      ]
     },
     "metadata": {
      "needs_background": "light"
     },
     "output_type": "display_data"
    }
   ],
   "source": [
    "plt.plot(profile)"
   ]
  },
  {
   "cell_type": "code",
   "execution_count": null,
   "id": "f7e56901-d545-419a-ba6e-006b3377beec",
   "metadata": {},
   "outputs": [],
   "source": [
    "my_vec"
   ]
  },
  {
   "cell_type": "code",
   "execution_count": null,
   "id": "6d17b44c-ecf0-4650-b502-a40f44963fce",
   "metadata": {},
   "outputs": [],
   "source": [
    "# 30-codon sliding window average\n",
    "window = np.ones(90).astype(float)/90.0\n",
    "sliding_window_avg = np.convolve(my_vector,window,mode=\"valid\")\n",
    "\n",
    "\n",
    "# plot\n",
    "%matplotlib inline\n",
    "import matplotlib.pyplot as plt\n",
    "\n",
    "plt.plot(my_vector,label=\"%s counts\" % my_transcript.get_name())\n",
    "plt.plot(sliding_window_avg,label=\"30 codon average\")\n",
    "plt.xlabel(\"Position in transcript (5' to 3')\")\n",
    "plt.ylabel(\"Ribosome counts\")\n",
    "\n",
    "# add outlines at start & stop codons\n",
    "plt.axvline(my_transcript.cds_start,color=\"#999999\",dashes=[3,2],zorder=-1)\n",
    "plt.axvline(my_transcript.cds_end,color=\"#999999\",dashes=[3,2],zorder=-1)"
   ]
  }
 ],
 "metadata": {
  "kernelspec": {
   "display_name": "Python 3 (ipykernel)",
   "language": "python",
   "name": "python3"
  },
  "language_info": {
   "codemirror_mode": {
    "name": "ipython",
    "version": 3
   },
   "file_extension": ".py",
   "mimetype": "text/x-python",
   "name": "python",
   "nbconvert_exporter": "python",
   "pygments_lexer": "ipython3",
   "version": "3.8.12"
  }
 },
 "nbformat": 4,
 "nbformat_minor": 5
}
