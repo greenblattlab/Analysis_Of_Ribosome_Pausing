{
 "cells": [
  {
   "cell_type": "markdown",
   "id": "b58a325c-47f7-4578-bb89-6e41e8c53a8f",
   "metadata": {},
   "source": [
    "# Differential Analysis of Ribosome Pausing\n",
    "\n",
    "This section will cover how to determine if an experimental condition induces rate limiting pauses during translation elongation. First, the count arrays from the last section will be loaded into a Jupyter notebook and filtered so that only transcripts with sufficient length and read coverage are analyzed. Then, LOESS smoothing will be performed on the filtered count arrays and the cumulative distributions of the smoothed count arrays will be calculated. These cumulative distributions will be used to calculate the KS statistic for each gene. All of the genes will then be sorted into 3 separate bins based on whether they have low, medium, or high KS statistics. The fold enrichment of genes affected by the experimental condition within each bin is then calculated. Finally, Fisher’s exact test will be used to determine if any of the observed enrichment of the target genes is significant. "
   ]
  },
  {
   "cell_type": "markdown",
   "id": "387d8c44-7693-4e8a-a948-d90c3456cd1c",
   "metadata": {},
   "source": [
    "### Step 26\n",
    "Load in all of the necessary Python packages. "
   ]
  },
  {
   "cell_type": "code",
   "execution_count": 4,
   "id": "fc74d07a-5fa5-4fae-acea-8976971a14d9",
   "metadata": {},
   "outputs": [],
   "source": [
    "import numpy as np\n",
    "import pandas as pd\n",
    "import utilities as utils\n",
    "import scipy.stats as stats\n",
    "import matplotlib.pyplot as plt\n",
    "from matplotlib.pyplot import figure\n",
    "%matplotlib inline\n",
    "from multiprocess import Pool"
   ]
  },
  {
   "cell_type": "code",
   "execution_count": 17,
   "id": "7e956821-dc5b-480d-af5d-285747083fd8",
   "metadata": {},
   "outputs": [],
   "source": [
    "# Define the path to our data files and the path we want to save our outputs in. \n",
    "data_path = \"/home/keeganfl/Desktop/Work_Fall_2021/Protocol_test/genome/mouse/\"\n",
    "target_path = '/home/keeganfl/Desktop/Work_Fall_2021/data_tables/'\n",
    "counts_path = \"/home/keeganfl/Desktop/Work_Fall_2021/Protocol_test/position_counts_seleno/\"\n",
    "mutation = 'Trspfl'\n",
    "samp_num = '2'\n",
    "image_path = \"/home/keeganfl/Desktop/Work_Fall_2021/Protocol_test/figures/\""
   ]
  },
  {
   "cell_type": "markdown",
   "id": "f37cd84b-f675-4045-9b93-f12d8d03ff78",
   "metadata": {
    "tags": []
   },
   "source": [
    "### Step 27\n",
    "Load in the count arrays for the experimental and control datasets. "
   ]
  },
  {
   "cell_type": "code",
   "execution_count": 6,
   "id": "c675344a-bf04-4b00-a3fd-59d76ca0cc3c",
   "metadata": {},
   "outputs": [],
   "source": [
    "data_exp, names_exp = utils.load_count_positions(counts_path + mutation+\"_\"+samp_num+\"_counts.csv\")\n",
    "data_control, names_control = utils.load_count_positions(counts_path + \"control_\"+ samp_num +\"_counts.csv\")"
   ]
  },
  {
   "cell_type": "markdown",
   "id": "cae367bd-79aa-4bd5-862d-6e754e03b674",
   "metadata": {},
   "source": [
    "### Step 28\n",
    "Smooth out the count arrays using LOESS smoothing and calculate the cumulative read distributions. The get_smoothed_vector function from the utilities.py file is set up to perform Loess smoothing with a window size equal to 5% of the transcript length and calculates the cumulative read distribution. This step can take some time so it is recommended to use the multiprocess’ Pool() function to complete this using multiple cores. "
   ]
  },
  {
   "cell_type": "code",
   "execution_count": 7,
   "id": "d139f63d-a241-41b9-be8b-59d24eb7a2fd",
   "metadata": {},
   "outputs": [],
   "source": [
    "max_pool = 8\n",
    "\n",
    "with Pool(max_pool) as p:\n",
    "    pool_control, pool_exp = list(\n",
    "            p.imap(utils.get_smoothed_vector,\n",
    "                   data_control)\n",
    "        ), list(\n",
    "            p.imap(utils.get_smoothed_vector,\n",
    "                    data_exp)\n",
    "        )"
   ]
  },
  {
   "cell_type": "markdown",
   "id": "da2b1b2f-583a-44b2-a11b-2a6f27ab4934",
   "metadata": {},
   "source": [
    "### Step 29\n",
    "For each gene in the experimental and control datasets, calculate the KS-statistic as the maximum distance between their smoothed cumulative distributions and then save this KS-statistic as a list.  "
   ]
  },
  {
   "cell_type": "code",
   "execution_count": 8,
   "id": "9b0334b5-72f8-413c-a776-f1f4df97e49c",
   "metadata": {},
   "outputs": [],
   "source": [
    "ks_list = []\n",
    "len_list = []\n",
    "for tr_m, tr_c, index in zip(data_exp, data_control, list(range(len(data_exp)))):\n",
    "    position = np.array(list(range(len(tr_m))))\n",
    "    smoothed_vec_m, cumul_m = pool_exp[index]\n",
    "    smoothed_vec_c, cumul_c = pool_control[index]\n",
    "\n",
    "    ks = max(abs(cumul_m - cumul_c))\n",
    "    ks_list.append(ks)\n",
    "    len_list.append(len(tr_m))"
   ]
  },
  {
   "cell_type": "markdown",
   "id": "48fd5fa8-6353-4605-a8f5-7a893dd32283",
   "metadata": {
    "tags": []
   },
   "source": [
    "### Step 30\n",
    "Combine the lists for the gene IDs, gene lengths, and KS statistics into a pandas dataframe using the Pandas’ DataFrame function and rename the columns of the dataframe to something more suitable. "
   ]
  },
  {
   "cell_type": "code",
   "execution_count": 9,
   "id": "286b18b8-0240-4620-88ac-f81ff39eecf4",
   "metadata": {},
   "outputs": [],
   "source": [
    "ks_table = pd.DataFrame(list(zip(names_exp, ks_list, len_list)))\n",
    "ks_table.columns = [\"gene_ID\", \"ks_stat\", \"gene_length\"]"
   ]
  },
  {
   "cell_type": "markdown",
   "id": "0eaa8c5f-fa16-4dd4-9a20-5424ab233296",
   "metadata": {
    "tags": []
   },
   "source": [
    "### Step 31\n",
    "Load up a table containing a list of names for the genes affected by our experimental condition and load up the KS table created during the previous section using Pandas’ read_csv function. The genes affected by the experimental condition will be referred to as target genes or targets."
   ]
  },
  {
   "cell_type": "code",
   "execution_count": 10,
   "id": "d9b572a9-8acf-4b8d-a978-b7117aad9af1",
   "metadata": {},
   "outputs": [],
   "source": [
    "target_table = pd.read_csv(target_path + 'Selenoprotein_table.csv', names = [\"gene_ID\"])"
   ]
  },
  {
   "cell_type": "markdown",
   "id": "a4faf5fe-55d8-467d-813a-ff266a956acb",
   "metadata": {
    "tags": []
   },
   "source": [
    "### Step 32\n",
    "Merge the table of KS statistics and the table of target gene names into a new table using Pandas’ merge function. This new table will have an indicator column that shows if one of the target genes matched to one of the genes in the table of KS statistics. Then, sort the new table from lowest K-S statistic to highest K-S statistic to help with the plotting in later steps. "
   ]
  },
  {
   "cell_type": "code",
   "execution_count": 11,
   "id": "0c13f191-20a7-40d7-8894-01b4f23fc0a6",
   "metadata": {},
   "outputs": [],
   "source": [
    "temp_df = pd.merge(ks_table, target_table, how='left', on='gene_ID', indicator = True)\n",
    "\n",
    "temp_df = temp_df.sort_values(by = \"ks_stat\")\n",
    "temp_df = temp_df.reset_index(drop=True)"
   ]
  },
  {
   "cell_type": "markdown",
   "id": "80675290-be9d-4848-b36e-c3ba83121a66",
   "metadata": {},
   "source": [
    "### Step 33\n",
    "Clean up your new table by removing any duplicates that may have been caused by multiple transcripts having the same gene name. "
   ]
  },
  {
   "cell_type": "code",
   "execution_count": 12,
   "id": "c80e58de-d299-459f-9df5-cbbd6607b65c",
   "metadata": {},
   "outputs": [],
   "source": [
    "temp_df.drop_duplicates(subset =\"gene_ID\",keep = \"first\", inplace = True) "
   ]
  },
  {
   "cell_type": "markdown",
   "id": "d78c7c21-ec14-42a7-b8db-f2d4e76115e2",
   "metadata": {},
   "source": [
    "### Step 34\n",
    "Use the indicator column created in step 32 to create 2 subsets of our table of KS statistics; one that only includes genes which matched with our target genes and one that only includes genes which did not match with our target genes."
   ]
  },
  {
   "cell_type": "code",
   "execution_count": 13,
   "id": "f6b02ee9-7f48-44ad-b7bc-a255e3827927",
   "metadata": {},
   "outputs": [],
   "source": [
    "targets = temp_df[temp_df._merge == \"both\"]\n",
    "\n",
    "non_targets = temp_df[temp_df._merge == \"left_only\"]"
   ]
  },
  {
   "cell_type": "markdown",
   "id": "bda1e234-eee3-4629-b3ec-e1879a5cda78",
   "metadata": {},
   "source": [
    "### Step 35\n",
    "Use matplotlib’s plot and violinplot functions to create plots which visualize the KS statistic for all of the target and non-target genes. "
   ]
  },
  {
   "cell_type": "code",
   "execution_count": 27,
   "id": "105ba0b3-baeb-4709-87d0-5519dfee3905",
   "metadata": {},
   "outputs": [
    {
     "data": {
      "image/png": "[encoded data removed]",
      "text/plain": [
       "<Figure size 396x324 with 1 Axes>"
      ]
     },
     "metadata": {
      "needs_background": "light"
     },
     "output_type": "display_data"
    }
   ],
   "source": [
    "fig = figure(figsize = (5.5,4.5))\n",
    "ax = fig.add_axes([0,0,.9,.9])\n",
    "\n",
    "x = np.random.normal(2, 0.04, size=len(targets.ks_stat))\n",
    "ax.plot(x, targets.ks_stat, 'm.', alpha=0.8)\n",
    "x = np.random.normal(1, 0.04, size=len(non_targets.ks_stat))\n",
    "ax.plot(x, non_targets.ks_stat, 'g.', alpha=0.8)\n",
    "\n",
    "ax.violinplot([non_targets.ks_stat,targets.ks_stat], showmeans = True)\n",
    "\n",
    "ax.set_xlim(0.5,2.5)\n",
    "ax.set_ylim(0,0.7)\n",
    "\n",
    "# Creating a line between averages and showing the P-value. \n",
    "# ax.plot([1,2],[0.35,0.35], color = \"black\")\n",
    "# ax.text(1.5,0.36,\"P =\")\n",
    "\n",
    "# Labelling the axes.\n",
    "positions = (1,2)\n",
    "labels = (\"Non-targets\", \"Targets\")\n",
    "ax.set_xticks(positions, labels, fontsize = 13)\n",
    "plt.ylabel(\"K-S Statistic\", fontsize = 13)\n",
    "\n",
    "# Plotting the cuttoff. \n",
    "ax.plot([0,7],[0.3,0.3], color = \"black\", linestyle = \"--\")\n",
    "\n",
    "# Creating grid lines\n",
    "axes = plt.gca()\n",
    "axes.yaxis.grid(linestyle = \"--\")\n",
    "\n",
    "fig.savefig(image_path + \"violin_plot.pdf\", bbox_inches = \"tight\")"
   ]
  },
  {
   "cell_type": "markdown",
   "id": "f564d51c-7bc5-4ad2-a2fc-fe52ea0bf52e",
   "metadata": {
    "tags": []
   },
   "source": [
    "### Step 35.5\n",
    "..."
   ]
  },
  {
   "cell_type": "code",
   "execution_count": 16,
   "id": "a473dad1-1965-4c1b-adde-c72fa7f50cb5",
   "metadata": {},
   "outputs": [
    {
     "data": {
      "text/plain": [
       "Ttest_indResult(statistic=3.2442457502408226, pvalue=0.0364)"
      ]
     },
     "execution_count": 12,
     "metadata": {},
     "output_type": "execute_result"
    }
   ],
   "source": [
    "stats.ttest_ind(targets.ks_stat, non_targets.ks_stat, equal_var = False, permutations = 50000)"
   ]
  },
  {
   "cell_type": "markdown",
   "id": "7bc61f3a-3e81-4c0f-aeee-7b45769aaf7d",
   "metadata": {},
   "source": [
    "### Step 36\n",
    "Divide the data into low, medium, and high KS fractions and determine the fold enrichment of the target genes in each fraction using the determine enrichment function from utilities.py. The KS fractions in this example are set as all genes with a KS stat less than 0.15, All genes with a KS stat between 0.15 and 0.3, and all genes with a KS stat above 0.3. "
   ]
  },
  {
   "cell_type": "code",
   "execution_count": 17,
   "id": "9d05871e-6eeb-48f1-9832-8465a8bddd23",
   "metadata": {},
   "outputs": [],
   "source": [
    "upper_ks = 0.3\n",
    "N_cats = 2\n",
    "enrich_dmel, sections_dmel = utils.determine_enrichment(targets, non_targets, upper_ks, N_cats)"
   ]
  },
  {
   "cell_type": "markdown",
   "id": "7de0816c-ad90-45d1-bec3-cf7fad93044d",
   "metadata": {},
   "source": [
    "### Step 37\n",
    "Use matplotlib’s pyplot.bar function to create a series of barplots that show the fold enrichment of genes that are targets in each fraction. "
   ]
  },
  {
   "cell_type": "code",
   "execution_count": 24,
   "id": "7a142a85-9b23-48f3-89bb-7c53ef21a71a",
   "metadata": {},
   "outputs": [
    {
     "data": {
      "image/png": "[encoded data removed]",
      "text/plain": [
       "<Figure size 468x396 with 1 Axes>"
      ]
     },
     "metadata": {
      "needs_background": "light"
     },
     "output_type": "display_data"
    }
   ],
   "source": [
    "figure(figsize = (6.5,5.5))\n",
    "plt.bar([1,2,3],enrich_dmel, width = 0.5,\n",
    "        tick_label = [\"Low KS fraction\",\"Medium KS fraction\",\"High KS fraction\"], \n",
    "       color = [\"g\", 'b', 'm'], edgecolor = 'black')\n",
    "plt.xticks(fontsize = 13)\n",
    "plt.xlim(0.6,3.4)\n",
    "plt.ylim(0, 50)\n",
    "plt.ylabel(\"Fold Enrichment\", fontsize = 13)\n",
    "axes = plt.gca()\n",
    "axes.yaxis.grid(linestyle = \"--\")"
   ]
  },
  {
   "cell_type": "markdown",
   "id": "517039be-425c-4151-8958-f14064bc32c3",
   "metadata": {},
   "source": [
    "### Step 38\n",
    "Perform Fisher’s exact test to determine if the difference between the observed and expected target proportions are significant. The Fisher_exact_p_values function from utilities.py can be used to automatically calculate these P-values for each of the KS fractions. "
   ]
  },
  {
   "cell_type": "code",
   "execution_count": 19,
   "id": "cc4f3058-71fd-4b50-b405-5db20702a57c",
   "metadata": {},
   "outputs": [],
   "source": [
    "utils.Fisher_exact_p_values(targets, non_targets, sections_dmel)"
   ]
  },
  {
   "cell_type": "markdown",
   "id": "4dc5412f-7bac-49a1-be4f-d3ba9fef082f",
   "metadata": {
    "tags": []
   },
   "source": [
    "### (Optional) \n",
    "\n",
    "After completing the analysis, one may wish to look at the count arrays and smoothed cumulative read distributions for individual genes of interest in order to observe the changes in read distribution. The following optional steps can be used to create these plots. "
   ]
  },
  {
   "cell_type": "markdown",
   "id": "f4c0644b-9785-48e8-a9bf-775f6d729bc6",
   "metadata": {},
   "source": [
    "### Step 39\n",
    "Choose a gene of interest and then find its count vector from the control and experimental datasets. "
   ]
  },
  {
   "cell_type": "code",
   "execution_count": 30,
   "id": "06c47edf-5070-49c4-b22d-2dc3ee82b039",
   "metadata": {},
   "outputs": [],
   "source": [
    "my_gene = 'Aox3'\n",
    "for tr_m, tr_c, name in zip(data_exp, data_control, names_exp):\n",
    "    if name == my_gene:\n",
    "        my_vec_exp = tr_m\n",
    "        my_vec_control = tr_c\n",
    "if len(my_vec_exp) == 0:\n",
    "    raise ValueError('Gene name not found')"
   ]
  },
  {
   "cell_type": "markdown",
   "id": "468d25e2-ae88-4f2c-aa02-c1cd5687e582",
   "metadata": {},
   "source": [
    "### Step 40\n",
    "Create smoothed count arrays for the gene of interest.  "
   ]
  },
  {
   "cell_type": "code",
   "execution_count": 31,
   "id": "6c9c7c26-ff7a-4db2-8826-2984d0d876bc",
   "metadata": {},
   "outputs": [],
   "source": [
    "smoothed_vec_m, cumul_m = utils.get_smoothed_vector(my_vec_exp+0.00000000001)\n",
    "smoothed_vec_c, cumul_c = utils.get_smoothed_vector(my_vec_control+0.00000000001)"
   ]
  },
  {
   "cell_type": "markdown",
   "id": "dc79773f-dae5-4d14-b19c-d76ba562a422",
   "metadata": {},
   "source": [
    "### Step 41\n",
    "Use Matplotlib's bar function to create bar plots that show the raw count arrays for the gene of interest"
   ]
  },
  {
   "cell_type": "code",
   "execution_count": 27,
   "id": "2dedeefb-252f-49b4-92b3-9f99ccb7a8e5",
   "metadata": {},
   "outputs": [],
   "source": [
    "maxi = max([max(my_vec_exp/sum(my_vec_exp)), max(my_vec_control/sum(my_vec_control))])\n",
    "\n",
    "plt.bar(list(range(len(my_vec_exp))),my_vec_exp/sum(my_vec_exp), width = 4)\n",
    "plt.ylim([0,maxi*1.1])\n",
    "plt.ylabel(\"Read Density (normalized)\", fontsize = 11)\n",
    "plt.xlabel(\"Transcript Position\", fontsize = 11)\n",
    "plt.title(\"Condition 1 \", fontsize = 13)\n",
    "axes = plt.gca()\n",
    "axes.yaxis.grid(linestyle = \"--\")\n",
    "plt.show()\n",
    "\n",
    "plt.bar(list(range(len(my_vec_exp))), my_vec_control/sum(my_vec_control), color = \"darkorange\", width = 4)\n",
    "plt.ylim([0,maxi*1.1])\n",
    "plt.ylabel(\"Read Density (normalized)\", fontsize = 11)\n",
    "plt.xlabel(\"Transcript Position\", fontsize = 11)\n",
    "plt.title(\"Condition 2 \", fontsize = 13)\n",
    "axes = plt.gca()\n",
    "axes.yaxis.grid(linestyle = \"--\")"
   ]
  },
  {
   "cell_type": "markdown",
   "id": "668c7254-5054-4c73-8bf1-5c9f5e2209b0",
   "metadata": {},
   "source": [
    "### Step 42\n",
    "Use Matplotlib's basic plot function to create line graphs that show the smoothed count arrays and the cumulative smoothed count arrays for the gene of interest. "
   ]
  },
  {
   "cell_type": "code",
   "execution_count": 32,
   "id": "c1760d2e-2efa-4deb-a866-a6d157696ddb",
   "metadata": {},
   "outputs": [],
   "source": [
    "plt.plot(smoothed_vec_m, label = \"condition 1\")\n",
    "plt.plot(smoothed_vec_c, label = \"condition 2\")\n",
    "plt.ylabel(\"Read Density\", fontsize = 11)\n",
    "plt.xlabel(\"Transcript Position\", fontsize = 11)\n",
    "plt.legend()\n",
    "axes = plt.gca()\n",
    "axes.yaxis.grid(linestyle = \"--\")\n",
    "plt.show()\n",
    "\n",
    "# Calculate the K-S statisticv from the cumulative distributions.\n",
    "ks = max(abs(cumul_m - cumul_c))\n",
    "\n",
    "plt.plot(cumul_m, label = \"condition 1\")\n",
    "plt.plot(cumul_c, label = \"condition 2\")\n",
    "plt.text(len(cumul_c)*0.66, 0.2, \"KS stat = \" + str(round(ks,3)), fontsize = 11)\n",
    "plt.ylabel(\"Cumulative Read Density\", fontsize = 11)\n",
    "plt.xlabel(\"Transcript Position\", fontsize = 11)\n",
    "plt.legend()\n",
    "axes = plt.gca()\n",
    "axes.yaxis.grid(linestyle = \"--\")"
   ]
  },
  {
   "cell_type": "code",
   "execution_count": null,
   "id": "01ab68b2-2755-4aaf-be88-7aeef5861c92",
   "metadata": {},
   "outputs": [],
   "source": []
  }
 ],
 "metadata": {
  "kernelspec": {
   "display_name": "Python 3 (ipykernel)",
   "language": "python",
   "name": "python3"
  },
  "language_info": {
   "codemirror_mode": {
    "name": "ipython",
    "version": 3
   },
   "file_extension": ".py",
   "mimetype": "text/x-python",
   "name": "python",
   "nbconvert_exporter": "python",
   "pygments_lexer": "ipython3",
   "version": "3.8.12"
  }
 },
 "nbformat": 4,
 "nbformat_minor": 5
}
