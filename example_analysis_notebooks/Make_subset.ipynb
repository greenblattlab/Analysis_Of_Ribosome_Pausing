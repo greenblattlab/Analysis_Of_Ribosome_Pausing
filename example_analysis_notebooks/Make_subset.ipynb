{
 "cells": [
  {
   "cell_type": "markdown",
   "id": "c3bfab60-94bc-4420-b659-71aaa9e54516",
   "metadata": {},
   "source": [
    "Hmmmm, It seems like all the information I need (e.g. chromosome number and position) is contained within the transcript type objects from plastid,but how do I extract that information. \n",
    "\n",
    "Perhaps for the fly data I can just take the first little part of the name when converted to a string to get the chromosome and then add on the region from attributes? Maybe an even smarter way would be to just say save everything until there is a semicolon since that is when it switches? "
   ]
  },
  {
   "cell_type": "markdown",
   "id": "b570b9e0-f308-4ee7-9fe4-44ce5142aa46",
   "metadata": {},
   "source": [
    "For the ecoli data, this might be considerably easier because there is only one chromosome. \n",
    "\n",
    "Oh crud, what am I going to do about transcripts of differing lengths???"
   ]
  },
  {
   "cell_type": "markdown",
   "id": "33279588-dadd-4048-9af8-48bee1233b83",
   "metadata": {},
   "source": [
    "### Import the necessary packages"
   ]
  },
  {
   "cell_type": "code",
   "execution_count": 1,
   "id": "001153fd-1e4c-4031-bb3a-34d0563edf23",
   "metadata": {},
   "outputs": [],
   "source": [
    "# Import necessary packages\n",
    "from plastid import BAMGenomeArray,GTF2_TranscriptAssembler,Transcript, ThreePrimeMapFactory\n",
    "import numpy as np\n",
    "import pandas as pd\n",
    "import dif_utils as dif\n",
    "from plastid.plotting.plots import *\n",
    "import setup_utils as st\n",
    "import matplotlib.pyplot as plt\n",
    "from matplotlib.pyplot import figure\n",
    "%matplotlib inline"
   ]
  },
  {
   "cell_type": "markdown",
   "id": "15348cae-5f67-4792-a195-c4bdfb4b3c1e",
   "metadata": {},
   "source": [
    "### Define extra functions"
   ]
  },
  {
   "cell_type": "code",
   "execution_count": 2,
   "id": "a46c3f2e-970c-4f60-a284-65b16b9f30f8",
   "metadata": {},
   "outputs": [],
   "source": [
    "def find_transcript(gene,transcripts):\n",
    "    '''\n",
    "    A function that takes the name of a gene as input and finds \n",
    "    the corresponding transcript from a transcript list. \n",
    "    \n",
    "    returns both the transcript in question and the vector of counts for that transcript.\n",
    "    \n",
    "    This function is still a work in progress as for now it simply gives the last \n",
    "    transcript in the list that matches the gene ID. \n",
    "    '''\n",
    "    \n",
    "    for i in transcripts:\n",
    "        if i.attr['gene_name'] == gene:\n",
    "            my_transcript = i\n",
    "                \n",
    "    return my_transcript"
   ]
  },
  {
   "cell_type": "markdown",
   "id": "fee305f2-5d84-478c-b711-b7ea2e831c56",
   "metadata": {},
   "source": [
    "### Define Paths"
   ]
  },
  {
   "cell_type": "code",
   "execution_count": 3,
   "id": "cb41f78e-c846-4c8f-b115-e351c053dd88",
   "metadata": {},
   "outputs": [],
   "source": [
    "# Define the path to important files\n",
    "data_path = \"/home/keeganfl/Desktop/Work_Fall_2021/Protocol_test/seleno_seq/\"\n",
    "gtf_path = \"/home/keeganfl/Desktop/Work_Fall_2021/Protocol_test/genome/mouse/\"\n",
    "target_path = '/home/keeganfl/Desktop/Work_Fall_2021/data_tables/'\n",
    "save_path = '/home/keeganfl/Desktop/Work_Fall_2021/Protocol_test/seleno_seq/'"
   ]
  },
  {
   "cell_type": "markdown",
   "id": "165fd04d-cfa2-4913-a0f4-610ed2929e29",
   "metadata": {},
   "source": [
    "### Set the random seed"
   ]
  },
  {
   "cell_type": "code",
   "execution_count": 4,
   "id": "039248d7-d785-4473-b840-1890da82a0ea",
   "metadata": {},
   "outputs": [],
   "source": [
    "np.random.seed(1938)"
   ]
  },
  {
   "cell_type": "markdown",
   "id": "0ac4d11f-4dac-4d68-9aa5-fe7ae5befc29",
   "metadata": {},
   "source": [
    "### Load in transcripts and remove non protein coding tanscripts"
   ]
  },
  {
   "cell_type": "code",
   "execution_count": 5,
   "id": "51362629-795d-43ca-b264-fac09434f3e9",
   "metadata": {
    "tags": []
   },
   "outputs": [],
   "source": [
    "# load the transcript annotations from the GTF file.\n",
    "# GTF2_TranscriptAssembler returns an iterator, so here we convert it to a list.\n",
    "transcripts = list(GTF2_TranscriptAssembler(open(gtf_path + \"mm10.refGene.gtf\"),\n",
    "                                                     return_type=Transcript))"
   ]
  },
  {
   "cell_type": "code",
   "execution_count": 6,
   "id": "dc02b24c-dd28-41c9-8b16-69f2db6e9680",
   "metadata": {},
   "outputs": [
    {
     "data": {
      "text/plain": [
       "{'gene_name': 'Rp1',\n",
       " 'source': 'refGene',\n",
       " 'transcript_id': 'NM_001195662',\n",
       " 'score': '.',\n",
       " 'gene_id': 'Rp1',\n",
       " 'cds_genome_end': 4409187,\n",
       " 'cds_genome_start': 4292980,\n",
       " 'type': 'mRNA'}"
      ]
     },
     "execution_count": 6,
     "metadata": {},
     "output_type": "execute_result"
    }
   ],
   "source": [
    "transcripts[2].attr"
   ]
  },
  {
   "cell_type": "code",
   "execution_count": 7,
   "id": "761de1cf-6320-428d-aaec-4eeedfb75b75",
   "metadata": {},
   "outputs": [],
   "source": [
    "#504 and 505 are different transcripts of the same gene with different lengths.\n",
    "#If you want to test something you can do it on that. "
   ]
  },
  {
   "cell_type": "markdown",
   "id": "5a0cb3ba-32f3-4439-9c66-eb869d113e56",
   "metadata": {},
   "source": [
    "### Load up the target genes"
   ]
  },
  {
   "cell_type": "code",
   "execution_count": 8,
   "id": "11802794-69b3-4734-a35e-e9b9d09254b7",
   "metadata": {},
   "outputs": [],
   "source": [
    "# Load up the target gene names. \n",
    "seleno_table = pd.read_csv(target_path + 'Selenoprotein_table.csv', names = [\"gene_ID\"])"
   ]
  },
  {
   "cell_type": "markdown",
   "id": "b2359e90-c69b-471e-8f73-72dc0b104289",
   "metadata": {},
   "source": [
    "### Create the basis for the target portion of the bed file"
   ]
  },
  {
   "cell_type": "code",
   "execution_count": 30,
   "id": "0e49821a-d050-4d95-abb2-cfc61516ca0b",
   "metadata": {},
   "outputs": [
    {
     "data": {
      "text/plain": [
       "227"
      ]
     },
     "execution_count": 30,
     "metadata": {},
     "output_type": "execute_result"
    }
   ],
   "source": [
    "transcripts[51].cds_start"
   ]
  },
  {
   "cell_type": "code",
   "execution_count": 9,
   "id": "1bad766d-b892-417d-96a7-f4942a5e6716",
   "metadata": {},
   "outputs": [],
   "source": [
    "chromo =[]\n",
    "start =[]\n",
    "end =[]\n",
    "for gene in seleno_table[\"gene_ID\"]:\n",
    "    try:\n",
    "        transcript = find_transcript(gene, transcripts)\n",
    "    except:\n",
    "        print(gene)\n",
    "    chromo.append(str(transcript).partition(\":\")[0])\n",
    "    start.append(transcript.attr['cds_genome_start'])\n",
    "    end.append(transcript.attr['cds_genome_end'])"
   ]
  },
  {
   "cell_type": "code",
   "execution_count": 10,
   "id": "7ef2acd1-3732-4567-8875-0a80ce011e76",
   "metadata": {},
   "outputs": [],
   "source": [
    "targets = pd.DataFrame(zip(chromo,start,end))\n",
    "targets.columns = [\"chr\",\"start\",\"stop\"]"
   ]
  },
  {
   "cell_type": "markdown",
   "id": "8617a88b-b450-4008-90ee-e4e022867643",
   "metadata": {},
   "source": [
    "### Take random subsamples of all other transcripts"
   ]
  },
  {
   "cell_type": "code",
   "execution_count": 11,
   "id": "ebff6b96-7d87-4ad3-8624-7984bcfc712e",
   "metadata": {},
   "outputs": [
    {
     "name": "stderr",
     "output_type": "stream",
     "text": [
      "---------------------------------------------------------------------------\n",
      "VisibleDeprecationWarning\n",
      "Creating an ndarray from ragged nested sequences (which is a list-or-tuple of\n",
      "lists-or-tuples-or ndarrays with different lengths or shapes) is deprecated.\n",
      "If you meant to do this, you must specify 'dtype=object' when creating the\n",
      "ndarray.\n",
      "in /tmp/ipykernel_485386/3160264374.py, line 1:\n",
      "\n",
      "1 ran_tran = np.random.choice(transcripts, 2200)\n",
      "\n",
      "---------------------------------------------------------------------------\n"
     ]
    }
   ],
   "source": [
    "ran_tran = np.random.choice(transcripts, 2200)"
   ]
  },
  {
   "cell_type": "code",
   "execution_count": 12,
   "id": "c34ceeb9-d647-48fd-a511-6b6bde88c7b7",
   "metadata": {},
   "outputs": [],
   "source": [
    "chromo =[]\n",
    "start =[]\n",
    "end =[]\n",
    "for transcript in ran_tran:\n",
    "    if transcript.attr['transcript_id'].startswith('NR') == False:\n",
    "        chromo.append(str(transcript).partition(\":\")[0])\n",
    "        start.append(transcript.attr['cds_genome_start'])\n",
    "        end.append(transcript.attr['cds_genome_end'])"
   ]
  },
  {
   "cell_type": "code",
   "execution_count": 13,
   "id": "a1b0ac58-1add-484b-a752-0870f7386ccc",
   "metadata": {},
   "outputs": [],
   "source": [
    "non_targets = pd.DataFrame(zip(chromo,start,end))\n",
    "non_targets.columns = [\"chr\",\"start\",\"stop\"]"
   ]
  },
  {
   "cell_type": "markdown",
   "id": "9b93181d-94a4-4d24-9b52-4748b97d333b",
   "metadata": {},
   "source": [
    "### Create and save the bed file."
   ]
  },
  {
   "cell_type": "code",
   "execution_count": 14,
   "id": "a90e60ac-173c-4321-833f-78f66dc16414",
   "metadata": {},
   "outputs": [],
   "source": [
    "to_bed = pd.concat([targets,non_targets])"
   ]
  },
  {
   "cell_type": "code",
   "execution_count": 15,
   "id": "db50b085-1835-40c3-ad45-a1aa2be588d4",
   "metadata": {},
   "outputs": [],
   "source": [
    "to_bed.to_csv(save_path + \"mmus_subset.bed\", sep = \"\\t\", header = False, index = False)"
   ]
  },
  {
   "cell_type": "markdown",
   "id": "7e4af97f-6d7b-40a0-89e8-96554345dba7",
   "metadata": {},
   "source": [
    "### Perform the subsetting"
   ]
  },
  {
   "cell_type": "code",
   "execution_count": 16,
   "id": "e3f79d4e-b5a0-492f-8593-8dcedea4844d",
   "metadata": {
    "tags": []
   },
   "outputs": [],
   "source": [
    "! cd /home/keeganfl/Desktop/Work_Fall_2021/Protocol_test/seleno_seq/ && \\\n",
    "    samtools view -b -L mmus_subset.bed Trspfl_RPF_1_Aligned.sortedByCoord.out.bam > subset_Trspfl_RPF_1.bam && \\\n",
    "    samtools view -b -L mmus_subset.bed control_RPF_1_Aligned.sortedByCoord.out.bam > subset_control_RPF_1.bam && \\\n",
    "    samtools view -b -L mmus_subset.bed Trspfl_RNA_1_Aligned.sortedByCoord.out.bam > subset_Trspfl_RNA_1.bam && \\\n",
    "    samtools view -b -L mmus_subset.bed control_RNA_1_Aligned.sortedByCoord.out.bam > subset_control_RNA_1.bam && \\\n",
    "    samtools view -b -L mmus_subset.bed Trspfl_RPF_2_Aligned.sortedByCoord.out.bam > subset_Trspfl_RPF_2.bam && \\\n",
    "    samtools view -b -L mmus_subset.bed control_RPF_2_Aligned.sortedByCoord.out.bam > subset_control_RPF_2.bam && \\\n",
    "    samtools view -b -L mmus_subset.bed Trspfl_RNA_2_Aligned.sortedByCoord.out.bam > subset_Trspfl_RNA_2.bam && \\\n",
    "    samtools view -b -L mmus_subset.bed control_RNA_2_Aligned.sortedByCoord.out.bam > subset_control_RNA_2.bam"
   ]
  },
  {
   "cell_type": "markdown",
   "id": "c848ac19-0d61-47c2-8673-aa84fcd2d4ff",
   "metadata": {},
   "source": [
    "### This does not look quite right, could have been caused by the changes in P-site offsetting or any of a number of things. That being said, I thing I can view this as a success"
   ]
  },
  {
   "cell_type": "code",
   "execution_count": 17,
   "id": "08533c1a-0f4e-456e-9944-b162a0d36877",
   "metadata": {},
   "outputs": [
    {
     "name": "stdout",
     "output_type": "stream",
     "text": [
      "/bin/bash: line 2: \\: command not found\n"
     ]
    }
   ],
   "source": [
    "! cd /home/keeganfl/Desktop/Work_Fall_2021/Protocol_test/seleno_seq/ && \\\n",
    "    samtools index subset_Trspfl_RPF_1.bam && \\\n",
    "    samtools index subset_control_RPF_1.bam && \\\n",
    "    samtools index subset_Trspfl_RNA_1.bam && \\\n",
    "    samtools index subset_control_RNA_1.bam && \\\n",
    "    samtools index subset_Trspfl_RPF_2.bam && \\\n",
    "    samtools index subset_control_RPF_2.bam && \\\n",
    "    samtools index subset_Trspfl_RNA_2.bam && \\\n",
    "    samtools index subset_control_RNA_2.bam"
   ]
  }
 ],
 "metadata": {
  "kernelspec": {
   "display_name": "Python 3 (ipykernel)",
   "language": "python",
   "name": "python3"
  },
  "language_info": {
   "codemirror_mode": {
    "name": "ipython",
    "version": 3
   },
   "file_extension": ".py",
   "mimetype": "text/x-python",
   "name": "python",
   "nbconvert_exporter": "python",
   "pygments_lexer": "ipython3",
   "version": "3.8.12"
  }
 },
 "nbformat": 4,
 "nbformat_minor": 5
}
