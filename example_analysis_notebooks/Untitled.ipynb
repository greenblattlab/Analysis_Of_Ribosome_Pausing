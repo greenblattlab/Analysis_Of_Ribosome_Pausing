{
 "cells": [
  {
   "cell_type": "code",
   "execution_count": 7,
   "id": "00e97f33-0ec6-4b39-a71c-3f96d4bcdcd5",
   "metadata": {},
   "outputs": [
    {
     "name": "stderr",
     "output_type": "stream",
     "text": [
      "/tmp/ipykernel_474005/152899676.py:27: FutureWarning: The default value of regex will change from True to False in a future version.\n",
      "  sample.columns = sample.columns.str.replace(\"_Aligned.sortedByCoord.out.bam\",\"\")\n"
     ]
    }
   ],
   "source": [
    "# Import necessary packages\n",
    "import pandas as pd\n",
    "import numpy as np\n",
    "import glob\n",
    "from functools import reduce\n",
    "\n",
    "########################## Raw Read Count ###########################\n",
    "\n",
    "# Define the path that you are going to take the files from.\n",
    "path = '/home/keeganfl/Desktop/Work_Fall_2021/Protocol_test/seleno_seq' # use your path\n",
    "all_files = glob.glob(path + \"/counts*.txt\")\n",
    "\n",
    "# Create an empty list to put each dataframe into.\n",
    "li = []\n",
    "\n",
    "# Fill the list with all of the count dataframes.\n",
    "for filenames in all_files:\n",
    "    df = pd.read_csv(filenames,\n",
    "                 sep='\\t',\n",
    "                header=1)\n",
    "    li.append(df)\n",
    "\n",
    "# Remove the uneccessary columns and shorten the sample names.\n",
    "for i in range(len(li)):\n",
    "    sample = li[i]\n",
    "    sample = sample.drop([\"Chr\",\"Start\",\"End\",\"Strand\",\"Length\"], axis=1)\n",
    "    sample.columns = sample.columns.str.replace(\"_Aligned.sortedByCoord.out.bam\",\"\")\n",
    "    li[i] = sample\n",
    "\n",
    "# Merge all of the dataframes together using an inner join.\n",
    "df_merged = reduce(lambda  left,right: pd.merge(left,right,on=['Geneid'],\n",
    "                                            how='inner'), li)\n",
    "\n",
    "# Save the merged dataframe as the raw read count input for RiboDiff\n",
    "df_merged.to_csv(\"raw_read_count.txt\", sep = '\\t', index = False)\n",
    "\n",
    "########################## Experimental Design ###########################\n",
    "\n",
    "# Creating a list of all of the Samples\n",
    "Samples = list(df_merged.columns[1:])\n",
    "\n",
    "#Using a couple of string searches to record if each sample is a control or not.\n",
    "Conditions = []\n",
    "for i in Samples:\n",
    "    if \"Trspfl\" in i:\n",
    "        Conditions.append(\"treated\")\n",
    "    elif \"control\" in i:\n",
    "        Conditions.append(\"control\")\n",
    "\n",
    "# Using a couple of string searches to record if each sample is made\n",
    "# of RNA sequences or ribosome profiles\n",
    "Data_Type = []\n",
    "for i in Samples:\n",
    "    if \"RNA\" in i:\n",
    "        Data_Type.append(\"RNA-Seq\")\n",
    "    elif \"RPF\" in i:\n",
    "        Data_Type.append(\"Ribo-Seq\")"
   ]
  },
  {
   "cell_type": "code",
   "execution_count": 8,
   "id": "28edb19e-eefd-4e92-8991-0e61aaa7a6c1",
   "metadata": {},
   "outputs": [
    {
     "data": {
      "text/plain": [
       "['treated',\n",
       " 'control',\n",
       " 'treated',\n",
       " 'control',\n",
       " 'treated',\n",
       " 'treated',\n",
       " 'control',\n",
       " 'control']"
      ]
     },
     "execution_count": 8,
     "metadata": {},
     "output_type": "execute_result"
    }
   ],
   "source": [
    "Conditions"
   ]
  },
  {
   "cell_type": "code",
   "execution_count": 9,
   "id": "bdf8f32f-e6b3-4a04-b53f-2a45d1bcf889",
   "metadata": {},
   "outputs": [],
   "source": [
    "# Combine all of the lists together into a DataFrame\n",
    "exp_d = pd.DataFrame({\"Samples\": Samples,\n",
    "              \"Data_Type\": Data_Type,\n",
    "              \"Conditions\": Conditions})\n",
    "\n",
    "# Saving the dataframe as the experimental_design csv\n",
    "exp_d.to_csv(\"experimental_design.csv\", index = False)"
   ]
  },
  {
   "cell_type": "code",
   "execution_count": null,
   "id": "73b59515-6fe6-4b86-a5fa-a3e26f718fe0",
   "metadata": {},
   "outputs": [],
   "source": []
  }
 ],
 "metadata": {
  "kernelspec": {
   "display_name": "Python 3 (ipykernel)",
   "language": "python",
   "name": "python3"
  },
  "language_info": {
   "codemirror_mode": {
    "name": "ipython",
    "version": 3
   },
   "file_extension": ".py",
   "mimetype": "text/x-python",
   "name": "python",
   "nbconvert_exporter": "python",
   "pygments_lexer": "ipython3",
   "version": "3.8.12"
  }
 },
 "nbformat": 4,
 "nbformat_minor": 5
}
